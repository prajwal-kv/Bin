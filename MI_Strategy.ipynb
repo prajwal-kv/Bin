{
 "cells": [
  {
   "cell_type": "markdown",
   "metadata": {},
   "source": [
    "# MI Strategies To counter DC attacks"
   ]
  },
  {
   "cell_type": "code",
   "execution_count": 22,
   "metadata": {},
   "outputs": [],
   "source": [
    "import pandas as pd\n",
    "import numpy as np\n",
    "import matplotlib.pyplot as plt\n",
    "import seaborn as sns\n",
    "%matplotlib inline\n",
    "import warnings\n",
    "warnings.filterwarnings(\"ignore\")\n",
    "MI_Strategies=pd.read_csv(\"deliveries.csv\")"
   ]
  },
  {
   "cell_type": "code",
   "execution_count": 23,
   "metadata": {},
   "outputs": [],
   "source": [
    "# what should MI do at the toss(bat/bowl)?"
   ]
  },
  {
   "cell_type": "code",
   "execution_count": 24,
   "metadata": {},
   "outputs": [],
   "source": [
    "MI_Toss=pd.read_csv(\"Matches IPL 2020.csv\")"
   ]
  },
  {
   "cell_type": "code",
   "execution_count": 27,
   "metadata": {},
   "outputs": [
    {
     "data": {
      "text/html": [
       "<div>\n",
       "<style scoped>\n",
       "    .dataframe tbody tr th:only-of-type {\n",
       "        vertical-align: middle;\n",
       "    }\n",
       "\n",
       "    .dataframe tbody tr th {\n",
       "        vertical-align: top;\n",
       "    }\n",
       "\n",
       "    .dataframe thead th {\n",
       "        text-align: right;\n",
       "    }\n",
       "</style>\n",
       "<table border=\"1\" class=\"dataframe\">\n",
       "  <thead>\n",
       "    <tr style=\"text-align: right;\">\n",
       "      <th></th>\n",
       "      <th>id</th>\n",
       "      <th>season</th>\n",
       "      <th>city</th>\n",
       "      <th>date</th>\n",
       "      <th>team1</th>\n",
       "      <th>team2</th>\n",
       "      <th>toss_winner</th>\n",
       "      <th>toss_decision</th>\n",
       "      <th>result</th>\n",
       "      <th>dl_applied</th>\n",
       "      <th>winner</th>\n",
       "      <th>win_by_runs</th>\n",
       "      <th>win_by_wickets</th>\n",
       "      <th>player_of_match</th>\n",
       "      <th>venue</th>\n",
       "      <th>umpire1</th>\n",
       "      <th>umpire2</th>\n",
       "      <th>umpire3</th>\n",
       "    </tr>\n",
       "  </thead>\n",
       "  <tbody>\n",
       "    <tr>\n",
       "      <th>0</th>\n",
       "      <td>1216492</td>\n",
       "      <td>2020</td>\n",
       "      <td>Abu Dhabi</td>\n",
       "      <td>09/19/2020</td>\n",
       "      <td>MI</td>\n",
       "      <td>CSK</td>\n",
       "      <td>CSK</td>\n",
       "      <td>field</td>\n",
       "      <td>normal</td>\n",
       "      <td>0</td>\n",
       "      <td>CSK</td>\n",
       "      <td>0</td>\n",
       "      <td>5</td>\n",
       "      <td>AT Rayudu</td>\n",
       "      <td>Sheikh Zayed Stadium, Abu Dhabi</td>\n",
       "      <td>Chris Gaffaney</td>\n",
       "      <td>Virender Sharma</td>\n",
       "      <td>Sundaram Ravi</td>\n",
       "    </tr>\n",
       "    <tr>\n",
       "      <th>1</th>\n",
       "      <td>1216493</td>\n",
       "      <td>2020</td>\n",
       "      <td>Dubai (DSC)</td>\n",
       "      <td>09/20/2020</td>\n",
       "      <td>DC</td>\n",
       "      <td>KXIP</td>\n",
       "      <td>KXIP</td>\n",
       "      <td>field</td>\n",
       "      <td>tie</td>\n",
       "      <td>0</td>\n",
       "      <td>DC</td>\n",
       "      <td>0</td>\n",
       "      <td>0</td>\n",
       "      <td>MP Stoinis</td>\n",
       "      <td>Dubai International Cricket Stadium</td>\n",
       "      <td>Anil Chaudhary</td>\n",
       "      <td>Nitin Menon</td>\n",
       "      <td>Paul Reiffel</td>\n",
       "    </tr>\n",
       "  </tbody>\n",
       "</table>\n",
       "</div>"
      ],
      "text/plain": [
       "        id  season         city        date team1 team2 toss_winner  \\\n",
       "0  1216492    2020    Abu Dhabi  09/19/2020    MI   CSK         CSK   \n",
       "1  1216493    2020  Dubai (DSC)  09/20/2020    DC  KXIP        KXIP   \n",
       "\n",
       "  toss_decision  result  dl_applied winner  win_by_runs  win_by_wickets  \\\n",
       "0         field  normal           0    CSK            0               5   \n",
       "1         field     tie           0     DC            0               0   \n",
       "\n",
       "  player_of_match                                venue         umpire1  \\\n",
       "0       AT Rayudu      Sheikh Zayed Stadium, Abu Dhabi  Chris Gaffaney   \n",
       "1      MP Stoinis  Dubai International Cricket Stadium  Anil Chaudhary   \n",
       "\n",
       "           umpire2        umpire3  \n",
       "0  Virender Sharma  Sundaram Ravi  \n",
       "1      Nitin Menon   Paul Reiffel  "
      ]
     },
     "execution_count": 27,
     "metadata": {},
     "output_type": "execute_result"
    }
   ],
   "source": [
    "MI_Toss.head(2)"
   ]
  },
  {
   "cell_type": "code",
   "execution_count": 28,
   "metadata": {},
   "outputs": [
    {
     "data": {
      "text/plain": [
       "<matplotlib.legend.Legend at 0x280acb5c888>"
      ]
     },
     "execution_count": 28,
     "metadata": {},
     "output_type": "execute_result"
    },
    {
     "data": {
      "image/png": "[encoded data removed]",
      "text/plain": [
       "<Figure size 432x288 with 1 Axes>"
      ]
     },
     "metadata": {},
     "output_type": "display_data"
    }
   ],
   "source": [
    "sns.set()\n",
    "sns.set_style('whitegrid')\n",
    "sns.countplot(x='toss_decision',hue='winner',palette='Set2',data=MI_Toss)\n",
    "plt.legend(loc='right')"
   ]
  },
  {
   "cell_type": "code",
   "execution_count": 29,
   "metadata": {},
   "outputs": [
    {
     "data": {
      "image/png": "[encoded data removed]",
      "text/plain": [
       "<Figure size 432x288 with 1 Axes>"
      ]
     },
     "metadata": {},
     "output_type": "display_data"
    }
   ],
   "source": [
    "count=[31,25]\n",
    "explode=[0,0]\n",
    "labels=['Batting Second','Batting First']\n",
    "plt.pie(count,labels=labels,explode=explode,autopct='%.2f')\n",
    "plt.title('Winning Percentage of batting First and Batting Second ')\n",
    "plt.show()"
   ]
  },
  {
   "cell_type": "code",
   "execution_count": 30,
   "metadata": {},
   "outputs": [],
   "source": [
    "Dubai_Results=MI_Toss.loc[(MI_Toss['city']=='Dubai (DSC)')]"
   ]
  },
  {
   "cell_type": "code",
   "execution_count": 31,
   "metadata": {},
   "outputs": [
    {
     "data": {
      "text/html": [
       "<div>\n",
       "<style scoped>\n",
       "    .dataframe tbody tr th:only-of-type {\n",
       "        vertical-align: middle;\n",
       "    }\n",
       "\n",
       "    .dataframe tbody tr th {\n",
       "        vertical-align: top;\n",
       "    }\n",
       "\n",
       "    .dataframe thead th {\n",
       "        text-align: right;\n",
       "    }\n",
       "</style>\n",
       "<table border=\"1\" class=\"dataframe\">\n",
       "  <thead>\n",
       "    <tr style=\"text-align: right;\">\n",
       "      <th></th>\n",
       "      <th>id</th>\n",
       "      <th>season</th>\n",
       "      <th>city</th>\n",
       "      <th>date</th>\n",
       "      <th>team1</th>\n",
       "      <th>team2</th>\n",
       "      <th>toss_winner</th>\n",
       "      <th>toss_decision</th>\n",
       "      <th>result</th>\n",
       "      <th>dl_applied</th>\n",
       "      <th>winner</th>\n",
       "      <th>win_by_runs</th>\n",
       "      <th>win_by_wickets</th>\n",
       "      <th>player_of_match</th>\n",
       "      <th>venue</th>\n",
       "      <th>umpire1</th>\n",
       "      <th>umpire2</th>\n",
       "      <th>umpire3</th>\n",
       "    </tr>\n",
       "  </thead>\n",
       "  <tbody>\n",
       "    <tr>\n",
       "      <th>50</th>\n",
       "      <td>1216535</td>\n",
       "      <td>2020</td>\n",
       "      <td>Dubai (DSC)</td>\n",
       "      <td>10-31-2020</td>\n",
       "      <td>DC</td>\n",
       "      <td>MI</td>\n",
       "      <td>MI</td>\n",
       "      <td>field</td>\n",
       "      <td>normal</td>\n",
       "      <td>0</td>\n",
       "      <td>MI</td>\n",
       "      <td>0</td>\n",
       "      <td>9</td>\n",
       "      <td>Ishan Kishan</td>\n",
       "      <td>Dubai International Cricket Stadium</td>\n",
       "      <td>Yeshwant Barde</td>\n",
       "      <td>Paul Reiffel</td>\n",
       "      <td>Anil Chaudhary</td>\n",
       "    </tr>\n",
       "    <tr>\n",
       "      <th>53</th>\n",
       "      <td>1216530</td>\n",
       "      <td>2020</td>\n",
       "      <td>Dubai (DSC)</td>\n",
       "      <td>11-01-20</td>\n",
       "      <td>KKR</td>\n",
       "      <td>RR</td>\n",
       "      <td>RR</td>\n",
       "      <td>field</td>\n",
       "      <td>normal</td>\n",
       "      <td>0</td>\n",
       "      <td>KKR</td>\n",
       "      <td>60</td>\n",
       "      <td>0</td>\n",
       "      <td>PJ Cummins</td>\n",
       "      <td>Dubai International Cricket Stadium</td>\n",
       "      <td>Nitin Menon</td>\n",
       "      <td>Paul Reiffel</td>\n",
       "      <td>Anil Chaudhary</td>\n",
       "    </tr>\n",
       "  </tbody>\n",
       "</table>\n",
       "</div>"
      ],
      "text/plain": [
       "         id  season         city        date team1 team2 toss_winner  \\\n",
       "50  1216535    2020  Dubai (DSC)  10-31-2020    DC    MI          MI   \n",
       "53  1216530    2020  Dubai (DSC)    11-01-20   KKR    RR          RR   \n",
       "\n",
       "   toss_decision  result  dl_applied winner  win_by_runs  win_by_wickets  \\\n",
       "50         field  normal           0     MI            0               9   \n",
       "53         field  normal           0    KKR           60               0   \n",
       "\n",
       "   player_of_match                                venue         umpire1  \\\n",
       "50    Ishan Kishan  Dubai International Cricket Stadium  Yeshwant Barde   \n",
       "53      PJ Cummins  Dubai International Cricket Stadium     Nitin Menon   \n",
       "\n",
       "         umpire2         umpire3  \n",
       "50  Paul Reiffel  Anil Chaudhary  \n",
       "53  Paul Reiffel  Anil Chaudhary  "
      ]
     },
     "execution_count": 31,
     "metadata": {},
     "output_type": "execute_result"
    }
   ],
   "source": [
    "Dubai_Results.tail(2)"
   ]
  },
  {
   "cell_type": "code",
   "execution_count": 32,
   "metadata": {},
   "outputs": [
    {
     "data": {
      "image/png": "[encoded data removed]",
      "text/plain": [
       "<Figure size 432x288 with 1 Axes>"
      ]
     },
     "metadata": {},
     "output_type": "display_data"
    }
   ],
   "source": [
    "sns.countplot(x='toss_decision',hue='winner',palette='Set2',data=Dubai_Results)\n",
    "plt.legend(loc='right')\n",
    "plt.show()"
   ]
  },
  {
   "cell_type": "code",
   "execution_count": 33,
   "metadata": {},
   "outputs": [
    {
     "name": "stdout",
     "output_type": "stream",
     "text": [
      "  Toss Decision In Dubai  No Of Times\n",
      "0      Batting First win           25\n",
      "1     Batting Second win           31\n"
     ]
    }
   ],
   "source": [
    "Data={'Toss Decision In Dubai':['Batting First win','Batting Second win'],\n",
    "     'No Of Times':[25,31]}\n",
    "df = pd.DataFrame(Data,columns = ['Toss Decision In Dubai','No Of Times'])\n",
    "print(df)"
   ]
  },
  {
   "cell_type": "code",
   "execution_count": 34,
   "metadata": {},
   "outputs": [
    {
     "data": {
      "image/png": "[encoded data removed]",
      "text/plain": [
       "<Figure size 432x288 with 1 Axes>"
      ]
     },
     "metadata": {},
     "output_type": "display_data"
    }
   ],
   "source": [
    "x=['Batting First','Batting Second']\n",
    "y=[25,31]\n",
    "plt.bar(x,y)\n",
    "plt.ylabel('Count')\n",
    "plt.title('Batting First or Batting Second which is more likely to win on Dubai Ground')\n",
    "plt.show()"
   ]
  },
  {
   "cell_type": "code",
   "execution_count": 35,
   "metadata": {},
   "outputs": [],
   "source": [
    "MI_DC1=MI_Toss.loc[(MI_Toss['team2']=='MI')&(MI_Toss['team1']=='DC')]"
   ]
  },
  {
   "cell_type": "code",
   "execution_count": 36,
   "metadata": {},
   "outputs": [],
   "source": [
    "MI_DC2=MI_Toss.loc[(MI_Toss['team1']=='MI')&(MI_Toss['team2']=='DC')]"
   ]
  },
  {
   "cell_type": "code",
   "execution_count": 37,
   "metadata": {},
   "outputs": [],
   "source": [
    "MI_DC=MI_DC2.append(MI_DC1)"
   ]
  },
  {
   "cell_type": "code",
   "execution_count": 38,
   "metadata": {},
   "outputs": [
    {
     "data": {
      "text/html": [
       "<div>\n",
       "<style scoped>\n",
       "    .dataframe tbody tr th:only-of-type {\n",
       "        vertical-align: middle;\n",
       "    }\n",
       "\n",
       "    .dataframe tbody tr th {\n",
       "        vertical-align: top;\n",
       "    }\n",
       "\n",
       "    .dataframe thead th {\n",
       "        text-align: right;\n",
       "    }\n",
       "</style>\n",
       "<table border=\"1\" class=\"dataframe\">\n",
       "  <thead>\n",
       "    <tr style=\"text-align: right;\">\n",
       "      <th></th>\n",
       "      <th>id</th>\n",
       "      <th>season</th>\n",
       "      <th>city</th>\n",
       "      <th>date</th>\n",
       "      <th>team1</th>\n",
       "      <th>team2</th>\n",
       "      <th>toss_winner</th>\n",
       "      <th>toss_decision</th>\n",
       "      <th>result</th>\n",
       "      <th>dl_applied</th>\n",
       "      <th>winner</th>\n",
       "      <th>win_by_runs</th>\n",
       "      <th>win_by_wickets</th>\n",
       "      <th>player_of_match</th>\n",
       "      <th>venue</th>\n",
       "      <th>umpire1</th>\n",
       "      <th>umpire2</th>\n",
       "      <th>umpire3</th>\n",
       "    </tr>\n",
       "  </thead>\n",
       "  <tbody>\n",
       "    <tr>\n",
       "      <th>26</th>\n",
       "      <td>1216529</td>\n",
       "      <td>2020</td>\n",
       "      <td>Abu Dhabi</td>\n",
       "      <td>10-11-20</td>\n",
       "      <td>MI</td>\n",
       "      <td>DC</td>\n",
       "      <td>DC</td>\n",
       "      <td>bat</td>\n",
       "      <td>normal</td>\n",
       "      <td>0</td>\n",
       "      <td>MI</td>\n",
       "      <td>0</td>\n",
       "      <td>5</td>\n",
       "      <td>Q de Kock</td>\n",
       "      <td>Sheikh Zayed Stadium, Abu Dhabi</td>\n",
       "      <td>Chris Gaffaney</td>\n",
       "      <td>Sundaram Ravi</td>\n",
       "      <td>Virender Sharma</td>\n",
       "    </tr>\n",
       "    <tr>\n",
       "      <th>50</th>\n",
       "      <td>1216535</td>\n",
       "      <td>2020</td>\n",
       "      <td>Dubai (DSC)</td>\n",
       "      <td>10-31-2020</td>\n",
       "      <td>DC</td>\n",
       "      <td>MI</td>\n",
       "      <td>MI</td>\n",
       "      <td>field</td>\n",
       "      <td>normal</td>\n",
       "      <td>0</td>\n",
       "      <td>MI</td>\n",
       "      <td>0</td>\n",
       "      <td>9</td>\n",
       "      <td>Ishan Kishan</td>\n",
       "      <td>Dubai International Cricket Stadium</td>\n",
       "      <td>Yeshwant Barde</td>\n",
       "      <td>Paul Reiffel</td>\n",
       "      <td>Anil Chaudhary</td>\n",
       "    </tr>\n",
       "  </tbody>\n",
       "</table>\n",
       "</div>"
      ],
      "text/plain": [
       "         id  season         city        date team1 team2 toss_winner  \\\n",
       "26  1216529    2020    Abu Dhabi    10-11-20    MI    DC          DC   \n",
       "50  1216535    2020  Dubai (DSC)  10-31-2020    DC    MI          MI   \n",
       "\n",
       "   toss_decision  result  dl_applied winner  win_by_runs  win_by_wickets  \\\n",
       "26           bat  normal           0     MI            0               5   \n",
       "50         field  normal           0     MI            0               9   \n",
       "\n",
       "   player_of_match                                venue         umpire1  \\\n",
       "26       Q de Kock      Sheikh Zayed Stadium, Abu Dhabi  Chris Gaffaney   \n",
       "50    Ishan Kishan  Dubai International Cricket Stadium  Yeshwant Barde   \n",
       "\n",
       "          umpire2          umpire3  \n",
       "26  Sundaram Ravi  Virender Sharma  \n",
       "50   Paul Reiffel   Anil Chaudhary  "
      ]
     },
     "execution_count": 38,
     "metadata": {},
     "output_type": "execute_result"
    }
   ],
   "source": [
    "MI_DC.head(2)"
   ]
  },
  {
   "cell_type": "code",
   "execution_count": 118,
   "metadata": {},
   "outputs": [
    {
     "data": {
      "text/html": [
       "<div>\n",
       "<style scoped>\n",
       "    .dataframe tbody tr th:only-of-type {\n",
       "        vertical-align: middle;\n",
       "    }\n",
       "\n",
       "    .dataframe tbody tr th {\n",
       "        vertical-align: top;\n",
       "    }\n",
       "\n",
       "    .dataframe thead th {\n",
       "        text-align: right;\n",
       "    }\n",
       "</style>\n",
       "<table border=\"1\" class=\"dataframe\">\n",
       "  <thead>\n",
       "    <tr style=\"text-align: right;\">\n",
       "      <th></th>\n",
       "      <th>season</th>\n",
       "      <th>dl_applied</th>\n",
       "      <th>win_by_runs</th>\n",
       "      <th>win_by_wickets</th>\n",
       "    </tr>\n",
       "    <tr>\n",
       "      <th>id</th>\n",
       "      <th></th>\n",
       "      <th></th>\n",
       "      <th></th>\n",
       "      <th></th>\n",
       "    </tr>\n",
       "  </thead>\n",
       "  <tbody>\n",
       "    <tr>\n",
       "      <th>1216529</th>\n",
       "      <td>2020</td>\n",
       "      <td>0</td>\n",
       "      <td>0</td>\n",
       "      <td>5</td>\n",
       "    </tr>\n",
       "    <tr>\n",
       "      <th>1216535</th>\n",
       "      <td>2020</td>\n",
       "      <td>0</td>\n",
       "      <td>0</td>\n",
       "      <td>9</td>\n",
       "    </tr>\n",
       "  </tbody>\n",
       "</table>\n",
       "</div>"
      ],
      "text/plain": [
       "         season  dl_applied  win_by_runs  win_by_wickets\n",
       "id                                                      \n",
       "1216529    2020           0            0               5\n",
       "1216535    2020           0            0               9"
      ]
     },
     "execution_count": 118,
     "metadata": {},
     "output_type": "execute_result"
    }
   ],
   "source": [
    "MI_DC.groupby('id').sum()"
   ]
  },
  {
   "cell_type": "code",
   "execution_count": 39,
   "metadata": {},
   "outputs": [
    {
     "data": {
      "text/plain": [
       "<matplotlib.axes._subplots.AxesSubplot at 0x280ace9bc88>"
      ]
     },
     "execution_count": 39,
     "metadata": {},
     "output_type": "execute_result"
    },
    {
     "data": {
      "image/png": "[encoded data removed]",
      "text/plain": [
       "<Figure size 432x288 with 1 Axes>"
      ]
     },
     "metadata": {},
     "output_type": "display_data"
    }
   ],
   "source": [
    "sns.set()\n",
    "sns.set_style('whitegrid')\n",
    "sns.countplot(x='toss_decision',hue='winner',data=MI_DC)"
   ]
  },
  {
   "cell_type": "code",
   "execution_count": 40,
   "metadata": {},
   "outputs": [
    {
     "data": {
      "text/html": [
       "<div>\n",
       "<style scoped>\n",
       "    .dataframe tbody tr th:only-of-type {\n",
       "        vertical-align: middle;\n",
       "    }\n",
       "\n",
       "    .dataframe tbody tr th {\n",
       "        vertical-align: top;\n",
       "    }\n",
       "\n",
       "    .dataframe thead th {\n",
       "        text-align: right;\n",
       "    }\n",
       "</style>\n",
       "<table border=\"1\" class=\"dataframe\">\n",
       "  <thead>\n",
       "    <tr style=\"text-align: right;\">\n",
       "      <th></th>\n",
       "      <th>id</th>\n",
       "      <th>season</th>\n",
       "      <th>city</th>\n",
       "      <th>date</th>\n",
       "      <th>team1</th>\n",
       "      <th>team2</th>\n",
       "      <th>toss_winner</th>\n",
       "      <th>toss_decision</th>\n",
       "      <th>result</th>\n",
       "      <th>dl_applied</th>\n",
       "      <th>winner</th>\n",
       "      <th>win_by_runs</th>\n",
       "      <th>win_by_wickets</th>\n",
       "      <th>player_of_match</th>\n",
       "      <th>venue</th>\n",
       "      <th>umpire1</th>\n",
       "      <th>umpire2</th>\n",
       "      <th>umpire3</th>\n",
       "    </tr>\n",
       "  </thead>\n",
       "  <tbody>\n",
       "    <tr>\n",
       "      <th>0</th>\n",
       "      <td>1216492</td>\n",
       "      <td>2020</td>\n",
       "      <td>Abu Dhabi</td>\n",
       "      <td>09/19/2020</td>\n",
       "      <td>MI</td>\n",
       "      <td>CSK</td>\n",
       "      <td>CSK</td>\n",
       "      <td>field</td>\n",
       "      <td>normal</td>\n",
       "      <td>0</td>\n",
       "      <td>CSK</td>\n",
       "      <td>0</td>\n",
       "      <td>5</td>\n",
       "      <td>AT Rayudu</td>\n",
       "      <td>Sheikh Zayed Stadium, Abu Dhabi</td>\n",
       "      <td>Chris Gaffaney</td>\n",
       "      <td>Virender Sharma</td>\n",
       "      <td>Sundaram Ravi</td>\n",
       "    </tr>\n",
       "    <tr>\n",
       "      <th>4</th>\n",
       "      <td>1216508</td>\n",
       "      <td>2020</td>\n",
       "      <td>Abu Dhabi</td>\n",
       "      <td>09/23/2020</td>\n",
       "      <td>KKR</td>\n",
       "      <td>MI</td>\n",
       "      <td>KKR</td>\n",
       "      <td>field</td>\n",
       "      <td>normal</td>\n",
       "      <td>0</td>\n",
       "      <td>MI</td>\n",
       "      <td>49</td>\n",
       "      <td>0</td>\n",
       "      <td>RG Sharma</td>\n",
       "      <td>Sheikh Zayed Stadium, Abu Dhabi</td>\n",
       "      <td>Chris Gaffaney</td>\n",
       "      <td>Sundaram Ravi</td>\n",
       "      <td>Virender Sharma</td>\n",
       "    </tr>\n",
       "  </tbody>\n",
       "</table>\n",
       "</div>"
      ],
      "text/plain": [
       "        id  season       city        date team1 team2 toss_winner  \\\n",
       "0  1216492    2020  Abu Dhabi  09/19/2020    MI   CSK         CSK   \n",
       "4  1216508    2020  Abu Dhabi  09/23/2020   KKR    MI         KKR   \n",
       "\n",
       "  toss_decision  result  dl_applied winner  win_by_runs  win_by_wickets  \\\n",
       "0         field  normal           0    CSK            0               5   \n",
       "4         field  normal           0     MI           49               0   \n",
       "\n",
       "  player_of_match                            venue         umpire1  \\\n",
       "0       AT Rayudu  Sheikh Zayed Stadium, Abu Dhabi  Chris Gaffaney   \n",
       "4       RG Sharma  Sheikh Zayed Stadium, Abu Dhabi  Chris Gaffaney   \n",
       "\n",
       "           umpire2          umpire3  \n",
       "0  Virender Sharma    Sundaram Ravi  \n",
       "4    Sundaram Ravi  Virender Sharma  "
      ]
     },
     "execution_count": 40,
     "metadata": {},
     "output_type": "execute_result"
    }
   ],
   "source": [
    "MI_Winnig_Record=MI_Toss.loc[(MI_Toss['team1']=='MI')|(MI_Toss['team2']=='MI')]\n",
    "MI_Winnig_Record.head(2)"
   ]
  },
  {
   "cell_type": "code",
   "execution_count": 43,
   "metadata": {},
   "outputs": [
    {
     "data": {
      "text/html": [
       "<div>\n",
       "<style scoped>\n",
       "    .dataframe tbody tr th:only-of-type {\n",
       "        vertical-align: middle;\n",
       "    }\n",
       "\n",
       "    .dataframe tbody tr th {\n",
       "        vertical-align: top;\n",
       "    }\n",
       "\n",
       "    .dataframe thead th {\n",
       "        text-align: right;\n",
       "    }\n",
       "</style>\n",
       "<table border=\"1\" class=\"dataframe\">\n",
       "  <thead>\n",
       "    <tr style=\"text-align: right;\">\n",
       "      <th></th>\n",
       "      <th>id</th>\n",
       "      <th>season</th>\n",
       "      <th>city</th>\n",
       "      <th>date</th>\n",
       "      <th>team1</th>\n",
       "      <th>team2</th>\n",
       "      <th>toss_winner</th>\n",
       "      <th>toss_decision</th>\n",
       "      <th>result</th>\n",
       "      <th>dl_applied</th>\n",
       "      <th>winner</th>\n",
       "      <th>win_by_runs</th>\n",
       "      <th>win_by_wickets</th>\n",
       "      <th>player_of_match</th>\n",
       "      <th>venue</th>\n",
       "      <th>umpire1</th>\n",
       "      <th>umpire2</th>\n",
       "      <th>umpire3</th>\n",
       "    </tr>\n",
       "  </thead>\n",
       "  <tbody>\n",
       "    <tr>\n",
       "      <th>0</th>\n",
       "      <td>1216492</td>\n",
       "      <td>2020</td>\n",
       "      <td>Abu Dhabi</td>\n",
       "      <td>09/19/2020</td>\n",
       "      <td>MI</td>\n",
       "      <td>CSK</td>\n",
       "      <td>CSK</td>\n",
       "      <td>field</td>\n",
       "      <td>normal</td>\n",
       "      <td>0</td>\n",
       "      <td>CSK</td>\n",
       "      <td>0</td>\n",
       "      <td>5</td>\n",
       "      <td>AT Rayudu</td>\n",
       "      <td>Sheikh Zayed Stadium, Abu Dhabi</td>\n",
       "      <td>Chris Gaffaney</td>\n",
       "      <td>Virender Sharma</td>\n",
       "      <td>Sundaram Ravi</td>\n",
       "    </tr>\n",
       "    <tr>\n",
       "      <th>4</th>\n",
       "      <td>1216508</td>\n",
       "      <td>2020</td>\n",
       "      <td>Abu Dhabi</td>\n",
       "      <td>09/23/2020</td>\n",
       "      <td>KKR</td>\n",
       "      <td>MI</td>\n",
       "      <td>KKR</td>\n",
       "      <td>field</td>\n",
       "      <td>normal</td>\n",
       "      <td>0</td>\n",
       "      <td>MI</td>\n",
       "      <td>49</td>\n",
       "      <td>0</td>\n",
       "      <td>RG Sharma</td>\n",
       "      <td>Sheikh Zayed Stadium, Abu Dhabi</td>\n",
       "      <td>Chris Gaffaney</td>\n",
       "      <td>Sundaram Ravi</td>\n",
       "      <td>Virender Sharma</td>\n",
       "    </tr>\n",
       "    <tr>\n",
       "      <th>9</th>\n",
       "      <td>1216547</td>\n",
       "      <td>2020</td>\n",
       "      <td>Dubai (DSC)</td>\n",
       "      <td>09/28/2020</td>\n",
       "      <td>RCB</td>\n",
       "      <td>MI</td>\n",
       "      <td>MI</td>\n",
       "      <td>field</td>\n",
       "      <td>tie</td>\n",
       "      <td>0</td>\n",
       "      <td>RCB</td>\n",
       "      <td>0</td>\n",
       "      <td>0</td>\n",
       "      <td>AB de Villiers</td>\n",
       "      <td>Dubai International Cricket Stadium</td>\n",
       "      <td>Nitin Menon</td>\n",
       "      <td>Paul Reiffel</td>\n",
       "      <td>Anil Chaudhary</td>\n",
       "    </tr>\n",
       "    <tr>\n",
       "      <th>12</th>\n",
       "      <td>1216503</td>\n",
       "      <td>2020</td>\n",
       "      <td>Abu Dhabi</td>\n",
       "      <td>10-01-20</td>\n",
       "      <td>KXIP</td>\n",
       "      <td>MI</td>\n",
       "      <td>KXIP</td>\n",
       "      <td>field</td>\n",
       "      <td>normal</td>\n",
       "      <td>0</td>\n",
       "      <td>MI</td>\n",
       "      <td>48</td>\n",
       "      <td>0</td>\n",
       "      <td>KA Pollard</td>\n",
       "      <td>Sheikh Zayed Stadium, Abu Dhabi</td>\n",
       "      <td>Virender Sharma</td>\n",
       "      <td>Sundaram Ravi</td>\n",
       "      <td>Ulhas Gandhe</td>\n",
       "    </tr>\n",
       "    <tr>\n",
       "      <th>16</th>\n",
       "      <td>1216538</td>\n",
       "      <td>2020</td>\n",
       "      <td>Sharjah</td>\n",
       "      <td>10-04-20</td>\n",
       "      <td>MI</td>\n",
       "      <td>SRH</td>\n",
       "      <td>MI</td>\n",
       "      <td>bat</td>\n",
       "      <td>normal</td>\n",
       "      <td>0</td>\n",
       "      <td>MI</td>\n",
       "      <td>34</td>\n",
       "      <td>0</td>\n",
       "      <td>TA Boult</td>\n",
       "      <td>Sharjah Cricket Stadium</td>\n",
       "      <td>KN Ananthapadmanabhan</td>\n",
       "      <td>Richard Illingworth</td>\n",
       "      <td>Krishnamachari Srinivasan</td>\n",
       "    </tr>\n",
       "    <tr>\n",
       "      <th>19</th>\n",
       "      <td>1216511</td>\n",
       "      <td>2020</td>\n",
       "      <td>Abu Dhabi</td>\n",
       "      <td>10-06-20</td>\n",
       "      <td>MI</td>\n",
       "      <td>RR</td>\n",
       "      <td>MI</td>\n",
       "      <td>bat</td>\n",
       "      <td>normal</td>\n",
       "      <td>0</td>\n",
       "      <td>MI</td>\n",
       "      <td>57</td>\n",
       "      <td>0</td>\n",
       "      <td>AS Yadav</td>\n",
       "      <td>Sheikh Zayed Stadium, Abu Dhabi</td>\n",
       "      <td>Virender Sharma</td>\n",
       "      <td>Sundaram Ravi</td>\n",
       "      <td>Chris Gaffaney</td>\n",
       "    </tr>\n",
       "    <tr>\n",
       "      <th>26</th>\n",
       "      <td>1216529</td>\n",
       "      <td>2020</td>\n",
       "      <td>Abu Dhabi</td>\n",
       "      <td>10-11-20</td>\n",
       "      <td>MI</td>\n",
       "      <td>DC</td>\n",
       "      <td>DC</td>\n",
       "      <td>bat</td>\n",
       "      <td>normal</td>\n",
       "      <td>0</td>\n",
       "      <td>MI</td>\n",
       "      <td>0</td>\n",
       "      <td>5</td>\n",
       "      <td>Q de Kock</td>\n",
       "      <td>Sheikh Zayed Stadium, Abu Dhabi</td>\n",
       "      <td>Chris Gaffaney</td>\n",
       "      <td>Sundaram Ravi</td>\n",
       "      <td>Virender Sharma</td>\n",
       "    </tr>\n",
       "    <tr>\n",
       "      <th>31</th>\n",
       "      <td>1216526</td>\n",
       "      <td>2020</td>\n",
       "      <td>Abu Dhabi</td>\n",
       "      <td>10-16-2020</td>\n",
       "      <td>MI</td>\n",
       "      <td>KKR</td>\n",
       "      <td>KKR</td>\n",
       "      <td>bat</td>\n",
       "      <td>normal</td>\n",
       "      <td>0</td>\n",
       "      <td>MI</td>\n",
       "      <td>0</td>\n",
       "      <td>8</td>\n",
       "      <td>Q de Kock</td>\n",
       "      <td>Sheikh Zayed Stadium, Abu Dhabi</td>\n",
       "      <td>Chris Gaffaney</td>\n",
       "      <td>Virender Sharma</td>\n",
       "      <td>Sundaram Ravi</td>\n",
       "    </tr>\n",
       "    <tr>\n",
       "      <th>35</th>\n",
       "      <td>1216517</td>\n",
       "      <td>2020</td>\n",
       "      <td>Dubai (DSC)</td>\n",
       "      <td>10-18-2020</td>\n",
       "      <td>MI</td>\n",
       "      <td>KXIP</td>\n",
       "      <td>MI</td>\n",
       "      <td>bat</td>\n",
       "      <td>tie</td>\n",
       "      <td>0</td>\n",
       "      <td>KXIP</td>\n",
       "      <td>0</td>\n",
       "      <td>0</td>\n",
       "      <td>KL Rahul</td>\n",
       "      <td>Dubai International Cricket Stadium</td>\n",
       "      <td>Nitin Menon</td>\n",
       "      <td>Paul Reiffel</td>\n",
       "      <td>Anil Chaudhary</td>\n",
       "    </tr>\n",
       "    <tr>\n",
       "      <th>40</th>\n",
       "      <td>1216521</td>\n",
       "      <td>2020</td>\n",
       "      <td>Sharjah</td>\n",
       "      <td>10-23-2020</td>\n",
       "      <td>CSK</td>\n",
       "      <td>MI</td>\n",
       "      <td>MI</td>\n",
       "      <td>field</td>\n",
       "      <td>normal</td>\n",
       "      <td>0</td>\n",
       "      <td>MI</td>\n",
       "      <td>0</td>\n",
       "      <td>10</td>\n",
       "      <td>TA Boult</td>\n",
       "      <td>Sharjah Cricket Stadium</td>\n",
       "      <td>Chettithody Shamshuddin</td>\n",
       "      <td>Vineet Kulkarni</td>\n",
       "      <td>Richard Illingworth</td>\n",
       "    </tr>\n",
       "    <tr>\n",
       "      <th>44</th>\n",
       "      <td>1216541</td>\n",
       "      <td>2020</td>\n",
       "      <td>Abu Dhabi</td>\n",
       "      <td>10-25-2020</td>\n",
       "      <td>RR</td>\n",
       "      <td>MI</td>\n",
       "      <td>MI</td>\n",
       "      <td>bat</td>\n",
       "      <td>normal</td>\n",
       "      <td>0</td>\n",
       "      <td>RR</td>\n",
       "      <td>0</td>\n",
       "      <td>8</td>\n",
       "      <td>BA Stokes</td>\n",
       "      <td>Sheikh Zayed Stadium, Abu Dhabi</td>\n",
       "      <td>Ulhas Gandhe</td>\n",
       "      <td>Virender Sharma</td>\n",
       "      <td>Sundaram Ravi</td>\n",
       "    </tr>\n",
       "    <tr>\n",
       "      <th>47</th>\n",
       "      <td>1216499</td>\n",
       "      <td>2020</td>\n",
       "      <td>Abu Dhabi</td>\n",
       "      <td>10-28-2020</td>\n",
       "      <td>MI</td>\n",
       "      <td>RCB</td>\n",
       "      <td>MI</td>\n",
       "      <td>field</td>\n",
       "      <td>normal</td>\n",
       "      <td>0</td>\n",
       "      <td>MI</td>\n",
       "      <td>0</td>\n",
       "      <td>5</td>\n",
       "      <td>AS Yadav</td>\n",
       "      <td>Sheikh Zayed Stadium, Abu Dhabi</td>\n",
       "      <td>Ulhas Gandhe</td>\n",
       "      <td>Chris Gaffaney</td>\n",
       "      <td>Sundaram Ravi</td>\n",
       "    </tr>\n",
       "    <tr>\n",
       "      <th>50</th>\n",
       "      <td>1216535</td>\n",
       "      <td>2020</td>\n",
       "      <td>Dubai (DSC)</td>\n",
       "      <td>10-31-2020</td>\n",
       "      <td>DC</td>\n",
       "      <td>MI</td>\n",
       "      <td>MI</td>\n",
       "      <td>field</td>\n",
       "      <td>normal</td>\n",
       "      <td>0</td>\n",
       "      <td>MI</td>\n",
       "      <td>0</td>\n",
       "      <td>9</td>\n",
       "      <td>Ishan Kishan</td>\n",
       "      <td>Dubai International Cricket Stadium</td>\n",
       "      <td>Yeshwant Barde</td>\n",
       "      <td>Paul Reiffel</td>\n",
       "      <td>Anil Chaudhary</td>\n",
       "    </tr>\n",
       "    <tr>\n",
       "      <th>55</th>\n",
       "      <td>1216495</td>\n",
       "      <td>2020</td>\n",
       "      <td>Sharjah</td>\n",
       "      <td>11-03-20</td>\n",
       "      <td>SRH</td>\n",
       "      <td>MI</td>\n",
       "      <td>SRH</td>\n",
       "      <td>field</td>\n",
       "      <td>normal</td>\n",
       "      <td>0</td>\n",
       "      <td>SRH</td>\n",
       "      <td>0</td>\n",
       "      <td>10</td>\n",
       "      <td>S Nadeem</td>\n",
       "      <td>Sharjah Cricket Stadium</td>\n",
       "      <td>Chettithody Shamshuddin</td>\n",
       "      <td>Richard Illingworth</td>\n",
       "      <td>KN Ananthapadmanabhan</td>\n",
       "    </tr>\n",
       "  </tbody>\n",
       "</table>\n",
       "</div>"
      ],
      "text/plain": [
       "         id  season         city        date team1 team2 toss_winner  \\\n",
       "0   1216492    2020    Abu Dhabi  09/19/2020    MI   CSK         CSK   \n",
       "4   1216508    2020    Abu Dhabi  09/23/2020   KKR    MI         KKR   \n",
       "9   1216547    2020  Dubai (DSC)  09/28/2020   RCB    MI          MI   \n",
       "12  1216503    2020    Abu Dhabi    10-01-20  KXIP    MI        KXIP   \n",
       "16  1216538    2020      Sharjah    10-04-20    MI   SRH          MI   \n",
       "19  1216511    2020    Abu Dhabi    10-06-20    MI    RR          MI   \n",
       "26  1216529    2020    Abu Dhabi    10-11-20    MI    DC          DC   \n",
       "31  1216526    2020    Abu Dhabi  10-16-2020    MI   KKR         KKR   \n",
       "35  1216517    2020  Dubai (DSC)  10-18-2020    MI  KXIP          MI   \n",
       "40  1216521    2020      Sharjah  10-23-2020   CSK    MI          MI   \n",
       "44  1216541    2020    Abu Dhabi  10-25-2020    RR    MI          MI   \n",
       "47  1216499    2020    Abu Dhabi  10-28-2020    MI   RCB          MI   \n",
       "50  1216535    2020  Dubai (DSC)  10-31-2020    DC    MI          MI   \n",
       "55  1216495    2020      Sharjah    11-03-20   SRH    MI         SRH   \n",
       "\n",
       "   toss_decision  result  dl_applied winner  win_by_runs  win_by_wickets  \\\n",
       "0          field  normal           0    CSK            0               5   \n",
       "4          field  normal           0     MI           49               0   \n",
       "9          field     tie           0    RCB            0               0   \n",
       "12         field  normal           0     MI           48               0   \n",
       "16           bat  normal           0     MI           34               0   \n",
       "19           bat  normal           0     MI           57               0   \n",
       "26           bat  normal           0     MI            0               5   \n",
       "31           bat  normal           0     MI            0               8   \n",
       "35           bat     tie           0   KXIP            0               0   \n",
       "40         field  normal           0     MI            0              10   \n",
       "44           bat  normal           0     RR            0               8   \n",
       "47         field  normal           0     MI            0               5   \n",
       "50         field  normal           0     MI            0               9   \n",
       "55         field  normal           0    SRH            0              10   \n",
       "\n",
       "   player_of_match                                venue  \\\n",
       "0        AT Rayudu      Sheikh Zayed Stadium, Abu Dhabi   \n",
       "4        RG Sharma      Sheikh Zayed Stadium, Abu Dhabi   \n",
       "9   AB de Villiers  Dubai International Cricket Stadium   \n",
       "12      KA Pollard      Sheikh Zayed Stadium, Abu Dhabi   \n",
       "16        TA Boult              Sharjah Cricket Stadium   \n",
       "19        AS Yadav      Sheikh Zayed Stadium, Abu Dhabi   \n",
       "26       Q de Kock      Sheikh Zayed Stadium, Abu Dhabi   \n",
       "31       Q de Kock      Sheikh Zayed Stadium, Abu Dhabi   \n",
       "35        KL Rahul  Dubai International Cricket Stadium   \n",
       "40        TA Boult              Sharjah Cricket Stadium   \n",
       "44       BA Stokes      Sheikh Zayed Stadium, Abu Dhabi   \n",
       "47        AS Yadav      Sheikh Zayed Stadium, Abu Dhabi   \n",
       "50    Ishan Kishan  Dubai International Cricket Stadium   \n",
       "55        S Nadeem              Sharjah Cricket Stadium   \n",
       "\n",
       "                    umpire1              umpire2                    umpire3  \n",
       "0            Chris Gaffaney      Virender Sharma              Sundaram Ravi  \n",
       "4            Chris Gaffaney        Sundaram Ravi            Virender Sharma  \n",
       "9               Nitin Menon         Paul Reiffel             Anil Chaudhary  \n",
       "12          Virender Sharma        Sundaram Ravi               Ulhas Gandhe  \n",
       "16    KN Ananthapadmanabhan  Richard Illingworth  Krishnamachari Srinivasan  \n",
       "19          Virender Sharma        Sundaram Ravi             Chris Gaffaney  \n",
       "26           Chris Gaffaney        Sundaram Ravi            Virender Sharma  \n",
       "31           Chris Gaffaney      Virender Sharma              Sundaram Ravi  \n",
       "35              Nitin Menon         Paul Reiffel             Anil Chaudhary  \n",
       "40  Chettithody Shamshuddin      Vineet Kulkarni        Richard Illingworth  \n",
       "44             Ulhas Gandhe      Virender Sharma              Sundaram Ravi  \n",
       "47             Ulhas Gandhe       Chris Gaffaney              Sundaram Ravi  \n",
       "50           Yeshwant Barde         Paul Reiffel             Anil Chaudhary  \n",
       "55  Chettithody Shamshuddin  Richard Illingworth      KN Ananthapadmanabhan  "
      ]
     },
     "execution_count": 43,
     "metadata": {},
     "output_type": "execute_result"
    }
   ],
   "source": [
    "MI_Winnig_Record"
   ]
  },
  {
   "cell_type": "code",
   "execution_count": 42,
   "metadata": {},
   "outputs": [
    {
     "data": {
      "text/plain": [
       "<matplotlib.axes._subplots.AxesSubplot at 0x280acf14788>"
      ]
     },
     "execution_count": 42,
     "metadata": {},
     "output_type": "execute_result"
    },
    {
     "data": {
      "image/png": "[encoded data removed]",
      "text/plain": [
       "<Figure size 432x288 with 1 Axes>"
      ]
     },
     "metadata": {},
     "output_type": "display_data"
    }
   ],
   "source": [
    "sns.countplot(x='toss_decision',hue='winner',palette='Set2',data=MI_Winnig_Record)"
   ]
  },
  {
   "cell_type": "code",
   "execution_count": 49,
   "metadata": {},
   "outputs": [
    {
     "data": {
      "image/png": "[encoded data removed]",
      "text/plain": [
       "<Figure size 432x288 with 1 Axes>"
      ]
     },
     "metadata": {},
     "output_type": "display_data"
    }
   ],
   "source": [
    "x=['Batting First','Batting Second']\n",
    "y=[4,5]\n",
    "plt.bar(x,y)\n",
    "plt.ylabel('Count')\n",
    "plt.title('Mumbai Indians Winning Count On Batting first and Batting Second')\n",
    "plt.show()"
   ]
  },
  {
   "cell_type": "code",
   "execution_count": 52,
   "metadata": {},
   "outputs": [],
   "source": [
    "MI_Winnig_record=MI_Winnig_Record.loc[(MI_Winnig_Record['winner']=='MI')]"
   ]
  },
  {
   "cell_type": "code",
   "execution_count": 53,
   "metadata": {},
   "outputs": [
    {
     "data": {
      "text/html": [
       "<div>\n",
       "<style scoped>\n",
       "    .dataframe tbody tr th:only-of-type {\n",
       "        vertical-align: middle;\n",
       "    }\n",
       "\n",
       "    .dataframe tbody tr th {\n",
       "        vertical-align: top;\n",
       "    }\n",
       "\n",
       "    .dataframe thead th {\n",
       "        text-align: right;\n",
       "    }\n",
       "</style>\n",
       "<table border=\"1\" class=\"dataframe\">\n",
       "  <thead>\n",
       "    <tr style=\"text-align: right;\">\n",
       "      <th></th>\n",
       "      <th>season</th>\n",
       "      <th>dl_applied</th>\n",
       "      <th>win_by_runs</th>\n",
       "      <th>win_by_wickets</th>\n",
       "    </tr>\n",
       "    <tr>\n",
       "      <th>id</th>\n",
       "      <th></th>\n",
       "      <th></th>\n",
       "      <th></th>\n",
       "      <th></th>\n",
       "    </tr>\n",
       "  </thead>\n",
       "  <tbody>\n",
       "    <tr>\n",
       "      <th>1216499</th>\n",
       "      <td>2020</td>\n",
       "      <td>0</td>\n",
       "      <td>0</td>\n",
       "      <td>5</td>\n",
       "    </tr>\n",
       "    <tr>\n",
       "      <th>1216503</th>\n",
       "      <td>2020</td>\n",
       "      <td>0</td>\n",
       "      <td>48</td>\n",
       "      <td>0</td>\n",
       "    </tr>\n",
       "    <tr>\n",
       "      <th>1216508</th>\n",
       "      <td>2020</td>\n",
       "      <td>0</td>\n",
       "      <td>49</td>\n",
       "      <td>0</td>\n",
       "    </tr>\n",
       "    <tr>\n",
       "      <th>1216511</th>\n",
       "      <td>2020</td>\n",
       "      <td>0</td>\n",
       "      <td>57</td>\n",
       "      <td>0</td>\n",
       "    </tr>\n",
       "    <tr>\n",
       "      <th>1216521</th>\n",
       "      <td>2020</td>\n",
       "      <td>0</td>\n",
       "      <td>0</td>\n",
       "      <td>10</td>\n",
       "    </tr>\n",
       "    <tr>\n",
       "      <th>1216526</th>\n",
       "      <td>2020</td>\n",
       "      <td>0</td>\n",
       "      <td>0</td>\n",
       "      <td>8</td>\n",
       "    </tr>\n",
       "    <tr>\n",
       "      <th>1216529</th>\n",
       "      <td>2020</td>\n",
       "      <td>0</td>\n",
       "      <td>0</td>\n",
       "      <td>5</td>\n",
       "    </tr>\n",
       "    <tr>\n",
       "      <th>1216535</th>\n",
       "      <td>2020</td>\n",
       "      <td>0</td>\n",
       "      <td>0</td>\n",
       "      <td>9</td>\n",
       "    </tr>\n",
       "    <tr>\n",
       "      <th>1216538</th>\n",
       "      <td>2020</td>\n",
       "      <td>0</td>\n",
       "      <td>34</td>\n",
       "      <td>0</td>\n",
       "    </tr>\n",
       "  </tbody>\n",
       "</table>\n",
       "</div>"
      ],
      "text/plain": [
       "         season  dl_applied  win_by_runs  win_by_wickets\n",
       "id                                                      \n",
       "1216499    2020           0            0               5\n",
       "1216503    2020           0           48               0\n",
       "1216508    2020           0           49               0\n",
       "1216511    2020           0           57               0\n",
       "1216521    2020           0            0              10\n",
       "1216526    2020           0            0               8\n",
       "1216529    2020           0            0               5\n",
       "1216535    2020           0            0               9\n",
       "1216538    2020           0           34               0"
      ]
     },
     "execution_count": 53,
     "metadata": {},
     "output_type": "execute_result"
    }
   ],
   "source": [
    "MI_Winnig_record.groupby('id').sum()"
   ]
  },
  {
   "cell_type": "code",
   "execution_count": 55,
   "metadata": {},
   "outputs": [],
   "source": [
    "MI_Runs=pd.read_csv('Deliveries IPL 2020.csv')"
   ]
  },
  {
   "cell_type": "code",
   "execution_count": 61,
   "metadata": {},
   "outputs": [
    {
     "data": {
      "text/html": [
       "<div>\n",
       "<style scoped>\n",
       "    .dataframe tbody tr th:only-of-type {\n",
       "        vertical-align: middle;\n",
       "    }\n",
       "\n",
       "    .dataframe tbody tr th {\n",
       "        vertical-align: top;\n",
       "    }\n",
       "\n",
       "    .dataframe thead th {\n",
       "        text-align: right;\n",
       "    }\n",
       "</style>\n",
       "<table border=\"1\" class=\"dataframe\">\n",
       "  <thead>\n",
       "    <tr style=\"text-align: right;\">\n",
       "      <th></th>\n",
       "      <th>match_id</th>\n",
       "      <th>inning</th>\n",
       "      <th>batting_team</th>\n",
       "      <th>bowling_team</th>\n",
       "      <th>over</th>\n",
       "      <th>ball</th>\n",
       "      <th>batsman</th>\n",
       "      <th>non_striker</th>\n",
       "      <th>bowler</th>\n",
       "      <th>is_super_over</th>\n",
       "      <th>...</th>\n",
       "      <th>bye_runs</th>\n",
       "      <th>legbye_runs</th>\n",
       "      <th>noball_runs</th>\n",
       "      <th>penalty_runs</th>\n",
       "      <th>batsman_runs</th>\n",
       "      <th>extra_runs</th>\n",
       "      <th>total_runs</th>\n",
       "      <th>player_dismissed</th>\n",
       "      <th>dismissal_kind</th>\n",
       "      <th>fielder</th>\n",
       "    </tr>\n",
       "  </thead>\n",
       "  <tbody>\n",
       "    <tr>\n",
       "      <th>0</th>\n",
       "      <td>1216492</td>\n",
       "      <td>1</td>\n",
       "      <td>MI</td>\n",
       "      <td>CSK</td>\n",
       "      <td>1</td>\n",
       "      <td>1</td>\n",
       "      <td>RG Sharma</td>\n",
       "      <td>Q de Kock</td>\n",
       "      <td>DL Chahar</td>\n",
       "      <td>0</td>\n",
       "      <td>...</td>\n",
       "      <td>0</td>\n",
       "      <td>0</td>\n",
       "      <td>0</td>\n",
       "      <td>0</td>\n",
       "      <td>4</td>\n",
       "      <td>0</td>\n",
       "      <td>4</td>\n",
       "      <td>NaN</td>\n",
       "      <td>NaN</td>\n",
       "      <td>NaN</td>\n",
       "    </tr>\n",
       "    <tr>\n",
       "      <th>1</th>\n",
       "      <td>1216492</td>\n",
       "      <td>1</td>\n",
       "      <td>MI</td>\n",
       "      <td>CSK</td>\n",
       "      <td>1</td>\n",
       "      <td>2</td>\n",
       "      <td>RG Sharma</td>\n",
       "      <td>Q de Kock</td>\n",
       "      <td>DL Chahar</td>\n",
       "      <td>0</td>\n",
       "      <td>...</td>\n",
       "      <td>0</td>\n",
       "      <td>0</td>\n",
       "      <td>0</td>\n",
       "      <td>0</td>\n",
       "      <td>1</td>\n",
       "      <td>0</td>\n",
       "      <td>1</td>\n",
       "      <td>NaN</td>\n",
       "      <td>NaN</td>\n",
       "      <td>NaN</td>\n",
       "    </tr>\n",
       "    <tr>\n",
       "      <th>2</th>\n",
       "      <td>1216492</td>\n",
       "      <td>1</td>\n",
       "      <td>MI</td>\n",
       "      <td>CSK</td>\n",
       "      <td>1</td>\n",
       "      <td>3</td>\n",
       "      <td>Q de Kock</td>\n",
       "      <td>RG Sharma</td>\n",
       "      <td>DL Chahar</td>\n",
       "      <td>0</td>\n",
       "      <td>...</td>\n",
       "      <td>0</td>\n",
       "      <td>0</td>\n",
       "      <td>0</td>\n",
       "      <td>0</td>\n",
       "      <td>2</td>\n",
       "      <td>0</td>\n",
       "      <td>2</td>\n",
       "      <td>NaN</td>\n",
       "      <td>NaN</td>\n",
       "      <td>NaN</td>\n",
       "    </tr>\n",
       "    <tr>\n",
       "      <th>3</th>\n",
       "      <td>1216492</td>\n",
       "      <td>1</td>\n",
       "      <td>MI</td>\n",
       "      <td>CSK</td>\n",
       "      <td>1</td>\n",
       "      <td>4</td>\n",
       "      <td>Q de Kock</td>\n",
       "      <td>RG Sharma</td>\n",
       "      <td>DL Chahar</td>\n",
       "      <td>0</td>\n",
       "      <td>...</td>\n",
       "      <td>0</td>\n",
       "      <td>0</td>\n",
       "      <td>0</td>\n",
       "      <td>0</td>\n",
       "      <td>4</td>\n",
       "      <td>0</td>\n",
       "      <td>4</td>\n",
       "      <td>NaN</td>\n",
       "      <td>NaN</td>\n",
       "      <td>NaN</td>\n",
       "    </tr>\n",
       "    <tr>\n",
       "      <th>4</th>\n",
       "      <td>1216492</td>\n",
       "      <td>1</td>\n",
       "      <td>MI</td>\n",
       "      <td>CSK</td>\n",
       "      <td>1</td>\n",
       "      <td>5</td>\n",
       "      <td>Q de Kock</td>\n",
       "      <td>RG Sharma</td>\n",
       "      <td>DL Chahar</td>\n",
       "      <td>0</td>\n",
       "      <td>...</td>\n",
       "      <td>0</td>\n",
       "      <td>0</td>\n",
       "      <td>0</td>\n",
       "      <td>0</td>\n",
       "      <td>0</td>\n",
       "      <td>0</td>\n",
       "      <td>0</td>\n",
       "      <td>NaN</td>\n",
       "      <td>NaN</td>\n",
       "      <td>NaN</td>\n",
       "    </tr>\n",
       "    <tr>\n",
       "      <th>...</th>\n",
       "      <td>...</td>\n",
       "      <td>...</td>\n",
       "      <td>...</td>\n",
       "      <td>...</td>\n",
       "      <td>...</td>\n",
       "      <td>...</td>\n",
       "      <td>...</td>\n",
       "      <td>...</td>\n",
       "      <td>...</td>\n",
       "      <td>...</td>\n",
       "      <td>...</td>\n",
       "      <td>...</td>\n",
       "      <td>...</td>\n",
       "      <td>...</td>\n",
       "      <td>...</td>\n",
       "      <td>...</td>\n",
       "      <td>...</td>\n",
       "      <td>...</td>\n",
       "      <td>...</td>\n",
       "      <td>...</td>\n",
       "      <td>...</td>\n",
       "    </tr>\n",
       "    <tr>\n",
       "      <th>13823</th>\n",
       "      <td>1216495</td>\n",
       "      <td>2</td>\n",
       "      <td>SRH</td>\n",
       "      <td>MI</td>\n",
       "      <td>17</td>\n",
       "      <td>3</td>\n",
       "      <td>WP Saha</td>\n",
       "      <td>DA Warner</td>\n",
       "      <td>NM Coulter-Nile</td>\n",
       "      <td>0</td>\n",
       "      <td>...</td>\n",
       "      <td>0</td>\n",
       "      <td>0</td>\n",
       "      <td>0</td>\n",
       "      <td>0</td>\n",
       "      <td>1</td>\n",
       "      <td>0</td>\n",
       "      <td>1</td>\n",
       "      <td>NaN</td>\n",
       "      <td>NaN</td>\n",
       "      <td>NaN</td>\n",
       "    </tr>\n",
       "    <tr>\n",
       "      <th>13824</th>\n",
       "      <td>1216495</td>\n",
       "      <td>2</td>\n",
       "      <td>SRH</td>\n",
       "      <td>MI</td>\n",
       "      <td>17</td>\n",
       "      <td>4</td>\n",
       "      <td>DA Warner</td>\n",
       "      <td>WP Saha</td>\n",
       "      <td>NM Coulter-Nile</td>\n",
       "      <td>0</td>\n",
       "      <td>...</td>\n",
       "      <td>0</td>\n",
       "      <td>0</td>\n",
       "      <td>0</td>\n",
       "      <td>0</td>\n",
       "      <td>0</td>\n",
       "      <td>0</td>\n",
       "      <td>0</td>\n",
       "      <td>NaN</td>\n",
       "      <td>NaN</td>\n",
       "      <td>NaN</td>\n",
       "    </tr>\n",
       "    <tr>\n",
       "      <th>13825</th>\n",
       "      <td>1216495</td>\n",
       "      <td>2</td>\n",
       "      <td>SRH</td>\n",
       "      <td>MI</td>\n",
       "      <td>17</td>\n",
       "      <td>5</td>\n",
       "      <td>DA Warner</td>\n",
       "      <td>WP Saha</td>\n",
       "      <td>NM Coulter-Nile</td>\n",
       "      <td>0</td>\n",
       "      <td>...</td>\n",
       "      <td>0</td>\n",
       "      <td>0</td>\n",
       "      <td>0</td>\n",
       "      <td>0</td>\n",
       "      <td>1</td>\n",
       "      <td>0</td>\n",
       "      <td>1</td>\n",
       "      <td>NaN</td>\n",
       "      <td>NaN</td>\n",
       "      <td>NaN</td>\n",
       "    </tr>\n",
       "    <tr>\n",
       "      <th>13826</th>\n",
       "      <td>1216495</td>\n",
       "      <td>2</td>\n",
       "      <td>SRH</td>\n",
       "      <td>MI</td>\n",
       "      <td>17</td>\n",
       "      <td>6</td>\n",
       "      <td>WP Saha</td>\n",
       "      <td>DA Warner</td>\n",
       "      <td>NM Coulter-Nile</td>\n",
       "      <td>0</td>\n",
       "      <td>...</td>\n",
       "      <td>0</td>\n",
       "      <td>0</td>\n",
       "      <td>0</td>\n",
       "      <td>0</td>\n",
       "      <td>0</td>\n",
       "      <td>0</td>\n",
       "      <td>0</td>\n",
       "      <td>NaN</td>\n",
       "      <td>NaN</td>\n",
       "      <td>NaN</td>\n",
       "    </tr>\n",
       "    <tr>\n",
       "      <th>13827</th>\n",
       "      <td>1216495</td>\n",
       "      <td>2</td>\n",
       "      <td>SRH</td>\n",
       "      <td>MI</td>\n",
       "      <td>18</td>\n",
       "      <td>1</td>\n",
       "      <td>DA Warner</td>\n",
       "      <td>WP Saha</td>\n",
       "      <td>HH Pandya</td>\n",
       "      <td>0</td>\n",
       "      <td>...</td>\n",
       "      <td>0</td>\n",
       "      <td>0</td>\n",
       "      <td>0</td>\n",
       "      <td>0</td>\n",
       "      <td>4</td>\n",
       "      <td>0</td>\n",
       "      <td>4</td>\n",
       "      <td>NaN</td>\n",
       "      <td>NaN</td>\n",
       "      <td>NaN</td>\n",
       "    </tr>\n",
       "  </tbody>\n",
       "</table>\n",
       "<p>13828 rows × 21 columns</p>\n",
       "</div>"
      ],
      "text/plain": [
       "       match_id  inning batting_team bowling_team  over  ball    batsman  \\\n",
       "0       1216492       1           MI          CSK     1     1  RG Sharma   \n",
       "1       1216492       1           MI          CSK     1     2  RG Sharma   \n",
       "2       1216492       1           MI          CSK     1     3  Q de Kock   \n",
       "3       1216492       1           MI          CSK     1     4  Q de Kock   \n",
       "4       1216492       1           MI          CSK     1     5  Q de Kock   \n",
       "...         ...     ...          ...          ...   ...   ...        ...   \n",
       "13823   1216495       2          SRH           MI    17     3    WP Saha   \n",
       "13824   1216495       2          SRH           MI    17     4  DA Warner   \n",
       "13825   1216495       2          SRH           MI    17     5  DA Warner   \n",
       "13826   1216495       2          SRH           MI    17     6    WP Saha   \n",
       "13827   1216495       2          SRH           MI    18     1  DA Warner   \n",
       "\n",
       "      non_striker           bowler  is_super_over  ...  bye_runs  legbye_runs  \\\n",
       "0       Q de Kock        DL Chahar              0  ...         0            0   \n",
       "1       Q de Kock        DL Chahar              0  ...         0            0   \n",
       "2       RG Sharma        DL Chahar              0  ...         0            0   \n",
       "3       RG Sharma        DL Chahar              0  ...         0            0   \n",
       "4       RG Sharma        DL Chahar              0  ...         0            0   \n",
       "...           ...              ...            ...  ...       ...          ...   \n",
       "13823   DA Warner  NM Coulter-Nile              0  ...         0            0   \n",
       "13824     WP Saha  NM Coulter-Nile              0  ...         0            0   \n",
       "13825     WP Saha  NM Coulter-Nile              0  ...         0            0   \n",
       "13826   DA Warner  NM Coulter-Nile              0  ...         0            0   \n",
       "13827     WP Saha        HH Pandya              0  ...         0            0   \n",
       "\n",
       "       noball_runs  penalty_runs  batsman_runs  extra_runs  total_runs  \\\n",
       "0                0             0             4           0           4   \n",
       "1                0             0             1           0           1   \n",
       "2                0             0             2           0           2   \n",
       "3                0             0             4           0           4   \n",
       "4                0             0             0           0           0   \n",
       "...            ...           ...           ...         ...         ...   \n",
       "13823            0             0             1           0           1   \n",
       "13824            0             0             0           0           0   \n",
       "13825            0             0             1           0           1   \n",
       "13826            0             0             0           0           0   \n",
       "13827            0             0             4           0           4   \n",
       "\n",
       "       player_dismissed dismissal_kind fielder  \n",
       "0                   NaN            NaN     NaN  \n",
       "1                   NaN            NaN     NaN  \n",
       "2                   NaN            NaN     NaN  \n",
       "3                   NaN            NaN     NaN  \n",
       "4                   NaN            NaN     NaN  \n",
       "...                 ...            ...     ...  \n",
       "13823               NaN            NaN     NaN  \n",
       "13824               NaN            NaN     NaN  \n",
       "13825               NaN            NaN     NaN  \n",
       "13826               NaN            NaN     NaN  \n",
       "13827               NaN            NaN     NaN  \n",
       "\n",
       "[13828 rows x 21 columns]"
      ]
     },
     "execution_count": 61,
     "metadata": {},
     "output_type": "execute_result"
    }
   ],
   "source": [
    "MI_Runs"
   ]
  },
  {
   "cell_type": "code",
   "execution_count": 62,
   "metadata": {},
   "outputs": [],
   "source": [
    "MI_runs=MI_Runs.loc[(MI_Runs['batting_team']=='MI')]"
   ]
  },
  {
   "cell_type": "code",
   "execution_count": 63,
   "metadata": {},
   "outputs": [
    {
     "data": {
      "text/html": [
       "<div>\n",
       "<style scoped>\n",
       "    .dataframe tbody tr th:only-of-type {\n",
       "        vertical-align: middle;\n",
       "    }\n",
       "\n",
       "    .dataframe tbody tr th {\n",
       "        vertical-align: top;\n",
       "    }\n",
       "\n",
       "    .dataframe thead th {\n",
       "        text-align: right;\n",
       "    }\n",
       "</style>\n",
       "<table border=\"1\" class=\"dataframe\">\n",
       "  <thead>\n",
       "    <tr style=\"text-align: right;\">\n",
       "      <th></th>\n",
       "      <th>match_id</th>\n",
       "      <th>inning</th>\n",
       "      <th>batting_team</th>\n",
       "      <th>bowling_team</th>\n",
       "      <th>over</th>\n",
       "      <th>ball</th>\n",
       "      <th>batsman</th>\n",
       "      <th>non_striker</th>\n",
       "      <th>bowler</th>\n",
       "      <th>is_super_over</th>\n",
       "      <th>...</th>\n",
       "      <th>bye_runs</th>\n",
       "      <th>legbye_runs</th>\n",
       "      <th>noball_runs</th>\n",
       "      <th>penalty_runs</th>\n",
       "      <th>batsman_runs</th>\n",
       "      <th>extra_runs</th>\n",
       "      <th>total_runs</th>\n",
       "      <th>player_dismissed</th>\n",
       "      <th>dismissal_kind</th>\n",
       "      <th>fielder</th>\n",
       "    </tr>\n",
       "  </thead>\n",
       "  <tbody>\n",
       "    <tr>\n",
       "      <th>0</th>\n",
       "      <td>1216492</td>\n",
       "      <td>1</td>\n",
       "      <td>MI</td>\n",
       "      <td>CSK</td>\n",
       "      <td>1</td>\n",
       "      <td>1</td>\n",
       "      <td>RG Sharma</td>\n",
       "      <td>Q de Kock</td>\n",
       "      <td>DL Chahar</td>\n",
       "      <td>0</td>\n",
       "      <td>...</td>\n",
       "      <td>0</td>\n",
       "      <td>0</td>\n",
       "      <td>0</td>\n",
       "      <td>0</td>\n",
       "      <td>4</td>\n",
       "      <td>0</td>\n",
       "      <td>4</td>\n",
       "      <td>NaN</td>\n",
       "      <td>NaN</td>\n",
       "      <td>NaN</td>\n",
       "    </tr>\n",
       "    <tr>\n",
       "      <th>1</th>\n",
       "      <td>1216492</td>\n",
       "      <td>1</td>\n",
       "      <td>MI</td>\n",
       "      <td>CSK</td>\n",
       "      <td>1</td>\n",
       "      <td>2</td>\n",
       "      <td>RG Sharma</td>\n",
       "      <td>Q de Kock</td>\n",
       "      <td>DL Chahar</td>\n",
       "      <td>0</td>\n",
       "      <td>...</td>\n",
       "      <td>0</td>\n",
       "      <td>0</td>\n",
       "      <td>0</td>\n",
       "      <td>0</td>\n",
       "      <td>1</td>\n",
       "      <td>0</td>\n",
       "      <td>1</td>\n",
       "      <td>NaN</td>\n",
       "      <td>NaN</td>\n",
       "      <td>NaN</td>\n",
       "    </tr>\n",
       "    <tr>\n",
       "      <th>2</th>\n",
       "      <td>1216492</td>\n",
       "      <td>1</td>\n",
       "      <td>MI</td>\n",
       "      <td>CSK</td>\n",
       "      <td>1</td>\n",
       "      <td>3</td>\n",
       "      <td>Q de Kock</td>\n",
       "      <td>RG Sharma</td>\n",
       "      <td>DL Chahar</td>\n",
       "      <td>0</td>\n",
       "      <td>...</td>\n",
       "      <td>0</td>\n",
       "      <td>0</td>\n",
       "      <td>0</td>\n",
       "      <td>0</td>\n",
       "      <td>2</td>\n",
       "      <td>0</td>\n",
       "      <td>2</td>\n",
       "      <td>NaN</td>\n",
       "      <td>NaN</td>\n",
       "      <td>NaN</td>\n",
       "    </tr>\n",
       "    <tr>\n",
       "      <th>3</th>\n",
       "      <td>1216492</td>\n",
       "      <td>1</td>\n",
       "      <td>MI</td>\n",
       "      <td>CSK</td>\n",
       "      <td>1</td>\n",
       "      <td>4</td>\n",
       "      <td>Q de Kock</td>\n",
       "      <td>RG Sharma</td>\n",
       "      <td>DL Chahar</td>\n",
       "      <td>0</td>\n",
       "      <td>...</td>\n",
       "      <td>0</td>\n",
       "      <td>0</td>\n",
       "      <td>0</td>\n",
       "      <td>0</td>\n",
       "      <td>4</td>\n",
       "      <td>0</td>\n",
       "      <td>4</td>\n",
       "      <td>NaN</td>\n",
       "      <td>NaN</td>\n",
       "      <td>NaN</td>\n",
       "    </tr>\n",
       "    <tr>\n",
       "      <th>4</th>\n",
       "      <td>1216492</td>\n",
       "      <td>1</td>\n",
       "      <td>MI</td>\n",
       "      <td>CSK</td>\n",
       "      <td>1</td>\n",
       "      <td>5</td>\n",
       "      <td>Q de Kock</td>\n",
       "      <td>RG Sharma</td>\n",
       "      <td>DL Chahar</td>\n",
       "      <td>0</td>\n",
       "      <td>...</td>\n",
       "      <td>0</td>\n",
       "      <td>0</td>\n",
       "      <td>0</td>\n",
       "      <td>0</td>\n",
       "      <td>0</td>\n",
       "      <td>0</td>\n",
       "      <td>0</td>\n",
       "      <td>NaN</td>\n",
       "      <td>NaN</td>\n",
       "      <td>NaN</td>\n",
       "    </tr>\n",
       "    <tr>\n",
       "      <th>...</th>\n",
       "      <td>...</td>\n",
       "      <td>...</td>\n",
       "      <td>...</td>\n",
       "      <td>...</td>\n",
       "      <td>...</td>\n",
       "      <td>...</td>\n",
       "      <td>...</td>\n",
       "      <td>...</td>\n",
       "      <td>...</td>\n",
       "      <td>...</td>\n",
       "      <td>...</td>\n",
       "      <td>...</td>\n",
       "      <td>...</td>\n",
       "      <td>...</td>\n",
       "      <td>...</td>\n",
       "      <td>...</td>\n",
       "      <td>...</td>\n",
       "      <td>...</td>\n",
       "      <td>...</td>\n",
       "      <td>...</td>\n",
       "      <td>...</td>\n",
       "    </tr>\n",
       "    <tr>\n",
       "      <th>13716</th>\n",
       "      <td>1216495</td>\n",
       "      <td>1</td>\n",
       "      <td>MI</td>\n",
       "      <td>SRH</td>\n",
       "      <td>20</td>\n",
       "      <td>2</td>\n",
       "      <td>KA Pollard</td>\n",
       "      <td>JL Pattinson</td>\n",
       "      <td>JO Holder</td>\n",
       "      <td>0</td>\n",
       "      <td>...</td>\n",
       "      <td>0</td>\n",
       "      <td>0</td>\n",
       "      <td>0</td>\n",
       "      <td>0</td>\n",
       "      <td>6</td>\n",
       "      <td>0</td>\n",
       "      <td>6</td>\n",
       "      <td>NaN</td>\n",
       "      <td>NaN</td>\n",
       "      <td>NaN</td>\n",
       "    </tr>\n",
       "    <tr>\n",
       "      <th>13717</th>\n",
       "      <td>1216495</td>\n",
       "      <td>1</td>\n",
       "      <td>MI</td>\n",
       "      <td>SRH</td>\n",
       "      <td>20</td>\n",
       "      <td>3</td>\n",
       "      <td>KA Pollard</td>\n",
       "      <td>JL Pattinson</td>\n",
       "      <td>JO Holder</td>\n",
       "      <td>0</td>\n",
       "      <td>...</td>\n",
       "      <td>0</td>\n",
       "      <td>0</td>\n",
       "      <td>0</td>\n",
       "      <td>0</td>\n",
       "      <td>0</td>\n",
       "      <td>0</td>\n",
       "      <td>0</td>\n",
       "      <td>KA Pollard</td>\n",
       "      <td>bowled</td>\n",
       "      <td>NaN</td>\n",
       "    </tr>\n",
       "    <tr>\n",
       "      <th>13718</th>\n",
       "      <td>1216495</td>\n",
       "      <td>1</td>\n",
       "      <td>MI</td>\n",
       "      <td>SRH</td>\n",
       "      <td>20</td>\n",
       "      <td>4</td>\n",
       "      <td>DS Kulkarni</td>\n",
       "      <td>JL Pattinson</td>\n",
       "      <td>JO Holder</td>\n",
       "      <td>0</td>\n",
       "      <td>...</td>\n",
       "      <td>0</td>\n",
       "      <td>0</td>\n",
       "      <td>0</td>\n",
       "      <td>0</td>\n",
       "      <td>1</td>\n",
       "      <td>0</td>\n",
       "      <td>1</td>\n",
       "      <td>NaN</td>\n",
       "      <td>NaN</td>\n",
       "      <td>NaN</td>\n",
       "    </tr>\n",
       "    <tr>\n",
       "      <th>13719</th>\n",
       "      <td>1216495</td>\n",
       "      <td>1</td>\n",
       "      <td>MI</td>\n",
       "      <td>SRH</td>\n",
       "      <td>20</td>\n",
       "      <td>5</td>\n",
       "      <td>JL Pattinson</td>\n",
       "      <td>DS Kulkarni</td>\n",
       "      <td>JO Holder</td>\n",
       "      <td>0</td>\n",
       "      <td>...</td>\n",
       "      <td>0</td>\n",
       "      <td>0</td>\n",
       "      <td>0</td>\n",
       "      <td>0</td>\n",
       "      <td>1</td>\n",
       "      <td>0</td>\n",
       "      <td>1</td>\n",
       "      <td>NaN</td>\n",
       "      <td>NaN</td>\n",
       "      <td>NaN</td>\n",
       "    </tr>\n",
       "    <tr>\n",
       "      <th>13720</th>\n",
       "      <td>1216495</td>\n",
       "      <td>1</td>\n",
       "      <td>MI</td>\n",
       "      <td>SRH</td>\n",
       "      <td>20</td>\n",
       "      <td>6</td>\n",
       "      <td>DS Kulkarni</td>\n",
       "      <td>JL Pattinson</td>\n",
       "      <td>JO Holder</td>\n",
       "      <td>0</td>\n",
       "      <td>...</td>\n",
       "      <td>0</td>\n",
       "      <td>0</td>\n",
       "      <td>0</td>\n",
       "      <td>0</td>\n",
       "      <td>2</td>\n",
       "      <td>0</td>\n",
       "      <td>2</td>\n",
       "      <td>NaN</td>\n",
       "      <td>NaN</td>\n",
       "      <td>NaN</td>\n",
       "    </tr>\n",
       "  </tbody>\n",
       "</table>\n",
       "<p>1646 rows × 21 columns</p>\n",
       "</div>"
      ],
      "text/plain": [
       "       match_id  inning batting_team bowling_team  over  ball       batsman  \\\n",
       "0       1216492       1           MI          CSK     1     1     RG Sharma   \n",
       "1       1216492       1           MI          CSK     1     2     RG Sharma   \n",
       "2       1216492       1           MI          CSK     1     3     Q de Kock   \n",
       "3       1216492       1           MI          CSK     1     4     Q de Kock   \n",
       "4       1216492       1           MI          CSK     1     5     Q de Kock   \n",
       "...         ...     ...          ...          ...   ...   ...           ...   \n",
       "13716   1216495       1           MI          SRH    20     2    KA Pollard   \n",
       "13717   1216495       1           MI          SRH    20     3    KA Pollard   \n",
       "13718   1216495       1           MI          SRH    20     4   DS Kulkarni   \n",
       "13719   1216495       1           MI          SRH    20     5  JL Pattinson   \n",
       "13720   1216495       1           MI          SRH    20     6   DS Kulkarni   \n",
       "\n",
       "        non_striker     bowler  is_super_over  ...  bye_runs  legbye_runs  \\\n",
       "0         Q de Kock  DL Chahar              0  ...         0            0   \n",
       "1         Q de Kock  DL Chahar              0  ...         0            0   \n",
       "2         RG Sharma  DL Chahar              0  ...         0            0   \n",
       "3         RG Sharma  DL Chahar              0  ...         0            0   \n",
       "4         RG Sharma  DL Chahar              0  ...         0            0   \n",
       "...             ...        ...            ...  ...       ...          ...   \n",
       "13716  JL Pattinson  JO Holder              0  ...         0            0   \n",
       "13717  JL Pattinson  JO Holder              0  ...         0            0   \n",
       "13718  JL Pattinson  JO Holder              0  ...         0            0   \n",
       "13719   DS Kulkarni  JO Holder              0  ...         0            0   \n",
       "13720  JL Pattinson  JO Holder              0  ...         0            0   \n",
       "\n",
       "       noball_runs  penalty_runs  batsman_runs  extra_runs  total_runs  \\\n",
       "0                0             0             4           0           4   \n",
       "1                0             0             1           0           1   \n",
       "2                0             0             2           0           2   \n",
       "3                0             0             4           0           4   \n",
       "4                0             0             0           0           0   \n",
       "...            ...           ...           ...         ...         ...   \n",
       "13716            0             0             6           0           6   \n",
       "13717            0             0             0           0           0   \n",
       "13718            0             0             1           0           1   \n",
       "13719            0             0             1           0           1   \n",
       "13720            0             0             2           0           2   \n",
       "\n",
       "       player_dismissed dismissal_kind fielder  \n",
       "0                   NaN            NaN     NaN  \n",
       "1                   NaN            NaN     NaN  \n",
       "2                   NaN            NaN     NaN  \n",
       "3                   NaN            NaN     NaN  \n",
       "4                   NaN            NaN     NaN  \n",
       "...                 ...            ...     ...  \n",
       "13716               NaN            NaN     NaN  \n",
       "13717        KA Pollard         bowled     NaN  \n",
       "13718               NaN            NaN     NaN  \n",
       "13719               NaN            NaN     NaN  \n",
       "13720               NaN            NaN     NaN  \n",
       "\n",
       "[1646 rows x 21 columns]"
      ]
     },
     "execution_count": 63,
     "metadata": {},
     "output_type": "execute_result"
    }
   ],
   "source": [
    "MI_runs"
   ]
  },
  {
   "cell_type": "code",
   "execution_count": 64,
   "metadata": {},
   "outputs": [
    {
     "data": {
      "text/plain": [
       "14"
      ]
     },
     "execution_count": 64,
     "metadata": {},
     "output_type": "execute_result"
    }
   ],
   "source": [
    "len(MI_runs['match_id'].value_counts())"
   ]
  },
  {
   "cell_type": "code",
   "execution_count": 66,
   "metadata": {},
   "outputs": [
    {
     "data": {
      "text/plain": [
       "2395"
      ]
     },
     "execution_count": 66,
     "metadata": {},
     "output_type": "execute_result"
    }
   ],
   "source": [
    "MI_runs['total_runs'].sum()"
   ]
  },
  {
   "cell_type": "code",
   "execution_count": 69,
   "metadata": {},
   "outputs": [
    {
     "name": "stdout",
     "output_type": "stream",
     "text": [
      "Average runs scored by MI in a single match in 2020IPL: 171\n"
     ]
    }
   ],
   "source": [
    "print(\"Average runs scored by MI in a single match in 2020IPL:\",2395//14)"
   ]
  },
  {
   "cell_type": "code",
   "execution_count": 67,
   "metadata": {},
   "outputs": [
    {
     "data": {
      "text/html": [
       "<div>\n",
       "<style scoped>\n",
       "    .dataframe tbody tr th:only-of-type {\n",
       "        vertical-align: middle;\n",
       "    }\n",
       "\n",
       "    .dataframe tbody tr th {\n",
       "        vertical-align: top;\n",
       "    }\n",
       "\n",
       "    .dataframe thead th {\n",
       "        text-align: right;\n",
       "    }\n",
       "</style>\n",
       "<table border=\"1\" class=\"dataframe\">\n",
       "  <thead>\n",
       "    <tr style=\"text-align: right;\">\n",
       "      <th></th>\n",
       "      <th>inning</th>\n",
       "      <th>over</th>\n",
       "      <th>ball</th>\n",
       "      <th>is_super_over</th>\n",
       "      <th>wide_runs</th>\n",
       "      <th>bye_runs</th>\n",
       "      <th>legbye_runs</th>\n",
       "      <th>noball_runs</th>\n",
       "      <th>penalty_runs</th>\n",
       "      <th>batsman_runs</th>\n",
       "      <th>extra_runs</th>\n",
       "      <th>total_runs</th>\n",
       "    </tr>\n",
       "    <tr>\n",
       "      <th>match_id</th>\n",
       "      <th></th>\n",
       "      <th></th>\n",
       "      <th></th>\n",
       "      <th></th>\n",
       "      <th></th>\n",
       "      <th></th>\n",
       "      <th></th>\n",
       "      <th></th>\n",
       "      <th></th>\n",
       "      <th></th>\n",
       "      <th></th>\n",
       "      <th></th>\n",
       "    </tr>\n",
       "  </thead>\n",
       "  <tbody>\n",
       "    <tr>\n",
       "      <th>1216492</th>\n",
       "      <td>124</td>\n",
       "      <td>1289</td>\n",
       "      <td>449</td>\n",
       "      <td>0</td>\n",
       "      <td>4</td>\n",
       "      <td>0</td>\n",
       "      <td>1</td>\n",
       "      <td>0</td>\n",
       "      <td>0</td>\n",
       "      <td>157</td>\n",
       "      <td>5</td>\n",
       "      <td>162</td>\n",
       "    </tr>\n",
       "    <tr>\n",
       "      <th>1216495</th>\n",
       "      <td>120</td>\n",
       "      <td>1260</td>\n",
       "      <td>420</td>\n",
       "      <td>0</td>\n",
       "      <td>0</td>\n",
       "      <td>0</td>\n",
       "      <td>1</td>\n",
       "      <td>0</td>\n",
       "      <td>0</td>\n",
       "      <td>148</td>\n",
       "      <td>1</td>\n",
       "      <td>149</td>\n",
       "    </tr>\n",
       "    <tr>\n",
       "      <th>1216499</th>\n",
       "      <td>242</td>\n",
       "      <td>1242</td>\n",
       "      <td>445</td>\n",
       "      <td>0</td>\n",
       "      <td>6</td>\n",
       "      <td>0</td>\n",
       "      <td>2</td>\n",
       "      <td>0</td>\n",
       "      <td>0</td>\n",
       "      <td>158</td>\n",
       "      <td>8</td>\n",
       "      <td>166</td>\n",
       "    </tr>\n",
       "    <tr>\n",
       "      <th>1216503</th>\n",
       "      <td>125</td>\n",
       "      <td>1317</td>\n",
       "      <td>455</td>\n",
       "      <td>0</td>\n",
       "      <td>5</td>\n",
       "      <td>0</td>\n",
       "      <td>1</td>\n",
       "      <td>0</td>\n",
       "      <td>0</td>\n",
       "      <td>185</td>\n",
       "      <td>6</td>\n",
       "      <td>191</td>\n",
       "    </tr>\n",
       "    <tr>\n",
       "      <th>1216508</th>\n",
       "      <td>131</td>\n",
       "      <td>1406</td>\n",
       "      <td>500</td>\n",
       "      <td>0</td>\n",
       "      <td>10</td>\n",
       "      <td>0</td>\n",
       "      <td>2</td>\n",
       "      <td>1</td>\n",
       "      <td>0</td>\n",
       "      <td>181</td>\n",
       "      <td>13</td>\n",
       "      <td>194</td>\n",
       "    </tr>\n",
       "    <tr>\n",
       "      <th>1216511</th>\n",
       "      <td>127</td>\n",
       "      <td>1335</td>\n",
       "      <td>470</td>\n",
       "      <td>0</td>\n",
       "      <td>5</td>\n",
       "      <td>1</td>\n",
       "      <td>2</td>\n",
       "      <td>4</td>\n",
       "      <td>0</td>\n",
       "      <td>177</td>\n",
       "      <td>12</td>\n",
       "      <td>189</td>\n",
       "    </tr>\n",
       "    <tr>\n",
       "      <th>1216517</th>\n",
       "      <td>141</td>\n",
       "      <td>1277</td>\n",
       "      <td>484</td>\n",
       "      <td>14</td>\n",
       "      <td>3</td>\n",
       "      <td>4</td>\n",
       "      <td>2</td>\n",
       "      <td>0</td>\n",
       "      <td>0</td>\n",
       "      <td>182</td>\n",
       "      <td>9</td>\n",
       "      <td>191</td>\n",
       "    </tr>\n",
       "    <tr>\n",
       "      <th>1216521</th>\n",
       "      <td>148</td>\n",
       "      <td>494</td>\n",
       "      <td>255</td>\n",
       "      <td>0</td>\n",
       "      <td>0</td>\n",
       "      <td>0</td>\n",
       "      <td>2</td>\n",
       "      <td>0</td>\n",
       "      <td>0</td>\n",
       "      <td>114</td>\n",
       "      <td>2</td>\n",
       "      <td>116</td>\n",
       "    </tr>\n",
       "    <tr>\n",
       "      <th>1216526</th>\n",
       "      <td>202</td>\n",
       "      <td>901</td>\n",
       "      <td>351</td>\n",
       "      <td>0</td>\n",
       "      <td>0</td>\n",
       "      <td>0</td>\n",
       "      <td>5</td>\n",
       "      <td>0</td>\n",
       "      <td>0</td>\n",
       "      <td>144</td>\n",
       "      <td>5</td>\n",
       "      <td>149</td>\n",
       "    </tr>\n",
       "    <tr>\n",
       "      <th>1216529</th>\n",
       "      <td>244</td>\n",
       "      <td>1260</td>\n",
       "      <td>438</td>\n",
       "      <td>0</td>\n",
       "      <td>4</td>\n",
       "      <td>0</td>\n",
       "      <td>0</td>\n",
       "      <td>0</td>\n",
       "      <td>0</td>\n",
       "      <td>162</td>\n",
       "      <td>4</td>\n",
       "      <td>166</td>\n",
       "    </tr>\n",
       "    <tr>\n",
       "      <th>1216535</th>\n",
       "      <td>174</td>\n",
       "      <td>669</td>\n",
       "      <td>304</td>\n",
       "      <td>0</td>\n",
       "      <td>1</td>\n",
       "      <td>0</td>\n",
       "      <td>0</td>\n",
       "      <td>0</td>\n",
       "      <td>0</td>\n",
       "      <td>110</td>\n",
       "      <td>1</td>\n",
       "      <td>111</td>\n",
       "    </tr>\n",
       "    <tr>\n",
       "      <th>1216538</th>\n",
       "      <td>123</td>\n",
       "      <td>1292</td>\n",
       "      <td>441</td>\n",
       "      <td>0</td>\n",
       "      <td>2</td>\n",
       "      <td>0</td>\n",
       "      <td>1</td>\n",
       "      <td>2</td>\n",
       "      <td>0</td>\n",
       "      <td>203</td>\n",
       "      <td>5</td>\n",
       "      <td>208</td>\n",
       "    </tr>\n",
       "    <tr>\n",
       "      <th>1216541</th>\n",
       "      <td>125</td>\n",
       "      <td>1289</td>\n",
       "      <td>456</td>\n",
       "      <td>0</td>\n",
       "      <td>5</td>\n",
       "      <td>0</td>\n",
       "      <td>4</td>\n",
       "      <td>0</td>\n",
       "      <td>0</td>\n",
       "      <td>186</td>\n",
       "      <td>9</td>\n",
       "      <td>195</td>\n",
       "    </tr>\n",
       "    <tr>\n",
       "      <th>1216547</th>\n",
       "      <td>256</td>\n",
       "      <td>1323</td>\n",
       "      <td>477</td>\n",
       "      <td>6</td>\n",
       "      <td>5</td>\n",
       "      <td>1</td>\n",
       "      <td>0</td>\n",
       "      <td>0</td>\n",
       "      <td>0</td>\n",
       "      <td>202</td>\n",
       "      <td>6</td>\n",
       "      <td>208</td>\n",
       "    </tr>\n",
       "  </tbody>\n",
       "</table>\n",
       "</div>"
      ],
      "text/plain": [
       "          inning  over  ball  is_super_over  wide_runs  bye_runs  legbye_runs  \\\n",
       "match_id                                                                        \n",
       "1216492      124  1289   449              0          4         0            1   \n",
       "1216495      120  1260   420              0          0         0            1   \n",
       "1216499      242  1242   445              0          6         0            2   \n",
       "1216503      125  1317   455              0          5         0            1   \n",
       "1216508      131  1406   500              0         10         0            2   \n",
       "1216511      127  1335   470              0          5         1            2   \n",
       "1216517      141  1277   484             14          3         4            2   \n",
       "1216521      148   494   255              0          0         0            2   \n",
       "1216526      202   901   351              0          0         0            5   \n",
       "1216529      244  1260   438              0          4         0            0   \n",
       "1216535      174   669   304              0          1         0            0   \n",
       "1216538      123  1292   441              0          2         0            1   \n",
       "1216541      125  1289   456              0          5         0            4   \n",
       "1216547      256  1323   477              6          5         1            0   \n",
       "\n",
       "          noball_runs  penalty_runs  batsman_runs  extra_runs  total_runs  \n",
       "match_id                                                                   \n",
       "1216492             0             0           157           5         162  \n",
       "1216495             0             0           148           1         149  \n",
       "1216499             0             0           158           8         166  \n",
       "1216503             0             0           185           6         191  \n",
       "1216508             1             0           181          13         194  \n",
       "1216511             4             0           177          12         189  \n",
       "1216517             0             0           182           9         191  \n",
       "1216521             0             0           114           2         116  \n",
       "1216526             0             0           144           5         149  \n",
       "1216529             0             0           162           4         166  \n",
       "1216535             0             0           110           1         111  \n",
       "1216538             2             0           203           5         208  \n",
       "1216541             0             0           186           9         195  \n",
       "1216547             0             0           202           6         208  "
      ]
     },
     "execution_count": 67,
     "metadata": {},
     "output_type": "execute_result"
    }
   ],
   "source": [
    "MI_runs.groupby('match_id').sum()"
   ]
  },
  {
   "cell_type": "code",
   "execution_count": 70,
   "metadata": {},
   "outputs": [
    {
     "data": {
      "text/html": [
       "<div>\n",
       "<style scoped>\n",
       "    .dataframe tbody tr th:only-of-type {\n",
       "        vertical-align: middle;\n",
       "    }\n",
       "\n",
       "    .dataframe tbody tr th {\n",
       "        vertical-align: top;\n",
       "    }\n",
       "\n",
       "    .dataframe thead th {\n",
       "        text-align: right;\n",
       "    }\n",
       "</style>\n",
       "<table border=\"1\" class=\"dataframe\">\n",
       "  <thead>\n",
       "    <tr style=\"text-align: right;\">\n",
       "      <th></th>\n",
       "      <th>match_id</th>\n",
       "      <th>inning</th>\n",
       "      <th>batting_team</th>\n",
       "      <th>bowling_team</th>\n",
       "      <th>over</th>\n",
       "      <th>ball</th>\n",
       "      <th>batsman</th>\n",
       "      <th>non_striker</th>\n",
       "      <th>bowler</th>\n",
       "      <th>is_super_over</th>\n",
       "      <th>...</th>\n",
       "      <th>bye_runs</th>\n",
       "      <th>legbye_runs</th>\n",
       "      <th>noball_runs</th>\n",
       "      <th>penalty_runs</th>\n",
       "      <th>batsman_runs</th>\n",
       "      <th>extra_runs</th>\n",
       "      <th>total_runs</th>\n",
       "      <th>player_dismissed</th>\n",
       "      <th>dismissal_kind</th>\n",
       "      <th>fielder</th>\n",
       "    </tr>\n",
       "  </thead>\n",
       "  <tbody>\n",
       "    <tr>\n",
       "      <th>960</th>\n",
       "      <td>5</td>\n",
       "      <td>1</td>\n",
       "      <td>Royal Challengers Bangalore</td>\n",
       "      <td>Delhi Capitals</td>\n",
       "      <td>1</td>\n",
       "      <td>1</td>\n",
       "      <td>CH Gayle</td>\n",
       "      <td>SR Watson</td>\n",
       "      <td>Z Khan</td>\n",
       "      <td>0</td>\n",
       "      <td>...</td>\n",
       "      <td>0</td>\n",
       "      <td>0</td>\n",
       "      <td>0</td>\n",
       "      <td>0</td>\n",
       "      <td>1</td>\n",
       "      <td>0</td>\n",
       "      <td>1</td>\n",
       "      <td>NaN</td>\n",
       "      <td>NaN</td>\n",
       "      <td>NaN</td>\n",
       "    </tr>\n",
       "    <tr>\n",
       "      <th>961</th>\n",
       "      <td>5</td>\n",
       "      <td>1</td>\n",
       "      <td>Royal Challengers Bangalore</td>\n",
       "      <td>Delhi Capitals</td>\n",
       "      <td>1</td>\n",
       "      <td>2</td>\n",
       "      <td>SR Watson</td>\n",
       "      <td>CH Gayle</td>\n",
       "      <td>Z Khan</td>\n",
       "      <td>0</td>\n",
       "      <td>...</td>\n",
       "      <td>0</td>\n",
       "      <td>0</td>\n",
       "      <td>0</td>\n",
       "      <td>0</td>\n",
       "      <td>4</td>\n",
       "      <td>0</td>\n",
       "      <td>4</td>\n",
       "      <td>NaN</td>\n",
       "      <td>NaN</td>\n",
       "      <td>NaN</td>\n",
       "    </tr>\n",
       "  </tbody>\n",
       "</table>\n",
       "<p>2 rows × 21 columns</p>\n",
       "</div>"
      ],
      "text/plain": [
       "     match_id  inning                 batting_team    bowling_team  over  \\\n",
       "960         5       1  Royal Challengers Bangalore  Delhi Capitals     1   \n",
       "961         5       1  Royal Challengers Bangalore  Delhi Capitals     1   \n",
       "\n",
       "     ball    batsman non_striker  bowler  is_super_over  ...  bye_runs  \\\n",
       "960     1   CH Gayle   SR Watson  Z Khan              0  ...         0   \n",
       "961     2  SR Watson    CH Gayle  Z Khan              0  ...         0   \n",
       "\n",
       "     legbye_runs  noball_runs  penalty_runs  batsman_runs  extra_runs  \\\n",
       "960            0            0             0             1           0   \n",
       "961            0            0             0             4           0   \n",
       "\n",
       "     total_runs  player_dismissed dismissal_kind fielder  \n",
       "960           1               NaN            NaN     NaN  \n",
       "961           4               NaN            NaN     NaN  \n",
       "\n",
       "[2 rows x 21 columns]"
      ]
     },
     "execution_count": 70,
     "metadata": {},
     "output_type": "execute_result"
    }
   ],
   "source": [
    "Deliveries=pd.read_csv(\"deliveries.csv\")\n",
    "Deliveries.replace('Delhi Daredevils','Delhi Capitals',inplace=True)\n",
    "Delhi_Bangalore1=Deliveries.loc[(Deliveries['batting_team' ] =='Royal Challengers Bangalore' ) & (Deliveries['bowling_team'] == 'Delhi Capitals')]\n",
    "Delhi_Bangalore2=Deliveries.loc[(Deliveries['bowling_team' ] =='Royal Challengers Bangalore') & (Deliveries['batting_team'] == 'Delhi Capitals')]\n",
    "Delhi_Bangalore=Delhi_Bangalore1.append(Delhi_Bangalore2)\n",
    "Delhi_Bangalore.head(2)"
   ]
  },
  {
   "cell_type": "code",
   "execution_count": 193,
   "metadata": {},
   "outputs": [
    {
     "data": {
      "image/png": "[encoded data removed]",
      "text/plain": [
       "<Figure size 432x288 with 1 Axes>"
      ]
     },
     "metadata": {},
     "output_type": "display_data"
    }
   ],
   "source": [
    "count=[31,26,23,25,22,18]\n",
    "explode=[0.2,0,0,0,0,0]\n",
    "labels=['Rohit_Sharma','Quinton de kock','surya Kumar yadav','Ishan Kishan','Krunal Pandya','Kieron pollard']\n",
    "plt.pie(count,labels=labels,explode=explode,autopct='%.2f')\n",
    "plt.title('Mumbai Indians Batsmans Average Runs against DC From IPL[2008-2019]Records')\n",
    "plt.show()"
   ]
  },
  {
   "cell_type": "markdown",
   "metadata": {},
   "source": [
    "# MI Batsman Performance against DC in 2020"
   ]
  },
  {
   "cell_type": "code",
   "execution_count": 85,
   "metadata": {},
   "outputs": [],
   "source": [
    "Mum_Del1=MI_Runs.loc[(MI_Runs['batting_team']=='MI')&(MI_Runs['bowling_team']=='DC')]"
   ]
  },
  {
   "cell_type": "code",
   "execution_count": 86,
   "metadata": {},
   "outputs": [],
   "source": [
    "Mum_Del2=MI_Runs.loc[(MI_Runs['batting_team']=='DC')&(MI_Runs['bowling_team']=='MI')]"
   ]
  },
  {
   "cell_type": "code",
   "execution_count": 87,
   "metadata": {},
   "outputs": [],
   "source": [
    "Mum_Del=Mum_Del1.append(Mum_Del2)"
   ]
  },
  {
   "cell_type": "code",
   "execution_count": 101,
   "metadata": {},
   "outputs": [],
   "source": [
    "MI_Rohit=Mum_Del.loc[(Mum_Del['batsman']=='RG Sharma')]#played only one match"
   ]
  },
  {
   "cell_type": "code",
   "execution_count": 91,
   "metadata": {},
   "outputs": [
    {
     "data": {
      "text/plain": [
       "5"
      ]
     },
     "execution_count": 91,
     "metadata": {},
     "output_type": "execute_result"
    }
   ],
   "source": [
    "MI_Rohit['batsman_runs'].sum()"
   ]
  },
  {
   "cell_type": "code",
   "execution_count": 135,
   "metadata": {},
   "outputs": [
    {
     "data": {
      "text/plain": [
       "6    3\n",
       "1    3\n",
       "5    2\n",
       "3    2\n",
       "7    1\n",
       "4    1\n",
       "2    1\n",
       "Name: ball, dtype: int64"
      ]
     },
     "execution_count": 135,
     "metadata": {},
     "output_type": "execute_result"
    }
   ],
   "source": [
    "MI_Rohit['ball'].value_counts()"
   ]
  },
  {
   "cell_type": "code",
   "execution_count": 93,
   "metadata": {},
   "outputs": [],
   "source": [
    "MI_Sk=Mum_Del.loc[(Mum_Del['batsman']=='AS Yadav')]"
   ]
  },
  {
   "cell_type": "code",
   "execution_count": 94,
   "metadata": {},
   "outputs": [
    {
     "data": {
      "text/plain": [
       "53"
      ]
     },
     "execution_count": 94,
     "metadata": {},
     "output_type": "execute_result"
    }
   ],
   "source": [
    "MI_Sk['batsman_runs'].sum()"
   ]
  },
  {
   "cell_type": "code",
   "execution_count": 136,
   "metadata": {},
   "outputs": [
    {
     "data": {
      "text/plain": [
       "4    7\n",
       "2    7\n",
       "6    6\n",
       "1    6\n",
       "3    4\n",
       "5    3\n",
       "Name: ball, dtype: int64"
      ]
     },
     "execution_count": 136,
     "metadata": {},
     "output_type": "execute_result"
    }
   ],
   "source": [
    "MI_Sk['ball'].value_counts()"
   ]
  },
  {
   "cell_type": "code",
   "execution_count": 95,
   "metadata": {},
   "outputs": [],
   "source": [
    "MI_qdk=Mum_Del.loc[(Mum_Del['batsman']=='Q de Kock')]"
   ]
  },
  {
   "cell_type": "code",
   "execution_count": 96,
   "metadata": {},
   "outputs": [
    {
     "data": {
      "text/plain": [
       "79"
      ]
     },
     "execution_count": 96,
     "metadata": {},
     "output_type": "execute_result"
    }
   ],
   "source": [
    "MI_qdk['batsman_runs'].sum()"
   ]
  },
  {
   "cell_type": "code",
   "execution_count": 137,
   "metadata": {},
   "outputs": [
    {
     "data": {
      "text/plain": [
       "5    12\n",
       "4    12\n",
       "2    12\n",
       "3    11\n",
       "1    10\n",
       "6     7\n",
       "Name: ball, dtype: int64"
      ]
     },
     "execution_count": 137,
     "metadata": {},
     "output_type": "execute_result"
    }
   ],
   "source": [
    "MI_qdk['ball'].value_counts()"
   ]
  },
  {
   "cell_type": "code",
   "execution_count": 97,
   "metadata": {},
   "outputs": [],
   "source": [
    "MI_Ik=Mum_Del.loc[(Mum_Del['batsman']=='Ishan Kishan')]"
   ]
  },
  {
   "cell_type": "code",
   "execution_count": 98,
   "metadata": {},
   "outputs": [
    {
     "data": {
      "text/plain": [
       "100"
      ]
     },
     "execution_count": 98,
     "metadata": {},
     "output_type": "execute_result"
    }
   ],
   "source": [
    "MI_Ik['batsman_runs'].sum()"
   ]
  },
  {
   "cell_type": "code",
   "execution_count": 138,
   "metadata": {},
   "outputs": [
    {
     "data": {
      "text/plain": [
       "3    12\n",
       "2    12\n",
       "6    10\n",
       "1    10\n",
       "5     9\n",
       "4     8\n",
       "7     2\n",
       "8     1\n",
       "Name: ball, dtype: int64"
      ]
     },
     "execution_count": 138,
     "metadata": {},
     "output_type": "execute_result"
    }
   ],
   "source": [
    "MI_Ik['ball'].value_counts()"
   ]
  },
  {
   "cell_type": "code",
   "execution_count": 99,
   "metadata": {},
   "outputs": [],
   "source": [
    "MI_hp=Mum_Del.loc[(Mum_Del['batsman']=='HH Pandya')]#played only one match"
   ]
  },
  {
   "cell_type": "code",
   "execution_count": 100,
   "metadata": {},
   "outputs": [
    {
     "data": {
      "text/plain": [
       "0"
      ]
     },
     "execution_count": 100,
     "metadata": {},
     "output_type": "execute_result"
    }
   ],
   "source": [
    "MI_hp['batsman_runs'].sum()"
   ]
  },
  {
   "cell_type": "code",
   "execution_count": 139,
   "metadata": {},
   "outputs": [
    {
     "data": {
      "text/plain": [
       "2    1\n",
       "1    1\n",
       "Name: ball, dtype: int64"
      ]
     },
     "execution_count": 139,
     "metadata": {},
     "output_type": "execute_result"
    }
   ],
   "source": [
    "MI_hp['ball'].value_counts()"
   ]
  },
  {
   "cell_type": "code",
   "execution_count": 145,
   "metadata": {},
   "outputs": [],
   "source": [
    "MI_kp=Mum_Del.loc[(Mum_Del['batsman']=='KH Pandya')]"
   ]
  },
  {
   "cell_type": "code",
   "execution_count": 146,
   "metadata": {},
   "outputs": [
    {
     "data": {
      "text/plain": [
       "12"
      ]
     },
     "execution_count": 146,
     "metadata": {},
     "output_type": "execute_result"
    }
   ],
   "source": [
    "MI_kp['batsman_runs'].sum()"
   ]
  },
  {
   "cell_type": "code",
   "execution_count": 147,
   "metadata": {},
   "outputs": [
    {
     "data": {
      "text/plain": [
       "5    2\n",
       "4    2\n",
       "1    2\n",
       "2    1\n",
       "Name: ball, dtype: int64"
      ]
     },
     "execution_count": 147,
     "metadata": {},
     "output_type": "execute_result"
    }
   ],
   "source": [
    "MI_kp['ball'].value_counts()"
   ]
  },
  {
   "cell_type": "code",
   "execution_count": 148,
   "metadata": {},
   "outputs": [],
   "source": [
    "MI_Kp=Mum_Del.loc[(Mum_Del['batsman']=='KA Pollard')]"
   ]
  },
  {
   "cell_type": "code",
   "execution_count": 149,
   "metadata": {},
   "outputs": [
    {
     "data": {
      "text/plain": [
       "11"
      ]
     },
     "execution_count": 149,
     "metadata": {},
     "output_type": "execute_result"
    }
   ],
   "source": [
    "MI_Kp['batsman_runs'].sum()#played one innings"
   ]
  },
  {
   "cell_type": "code",
   "execution_count": 150,
   "metadata": {},
   "outputs": [
    {
     "data": {
      "text/plain": [
       "3    4\n",
       "6    3\n",
       "5    2\n",
       "4    2\n",
       "1    2\n",
       "7    1\n",
       "2    1\n",
       "Name: ball, dtype: int64"
      ]
     },
     "execution_count": 150,
     "metadata": {},
     "output_type": "execute_result"
    }
   ],
   "source": [
    "MI_Kp['ball'].value_counts()"
   ]
  },
  {
   "cell_type": "code",
   "execution_count": 154,
   "metadata": {},
   "outputs": [
    {
     "name": "stdout",
     "output_type": "stream",
     "text": [
      "         Player_Name  Batsman_Total_Runs  Balls_Faced  Strike_Rate  \\\n",
      "0       Rohit Sharma                   5           12         41.6   \n",
      "1    Quinton de kock                  79           64        123.4   \n",
      "2  Surya kumar Yadav                  53           33        160.6   \n",
      "3       Ishan Kishan                 100           64        156.6   \n",
      "4      krunal pandya                  12            7        171.4   \n",
      "5      hardik pandya                   0            2          0.0   \n",
      "6     kieron pollard                  11           15         73.3   \n",
      "\n",
      "   No_of_matches_played_against_DC_in_2020               Batsman_status  \n",
      "0                                        1                       played  \n",
      "1                                        2                       played  \n",
      "2                                        2                       played  \n",
      "3                                        2                       played  \n",
      "4                                        2   Didn't bat in second Match  \n",
      "5                                        1                       played  \n",
      "6                                        2  Didn't bat in  second Match  \n"
     ]
    }
   ],
   "source": [
    "Data={'Player_Name':['Rohit Sharma','Quinton de kock','Surya kumar Yadav','Ishan Kishan','krunal pandya','hardik pandya','kieron pollard'],\n",
    "     'Batsman_Total_Runs':[5,79,53,100,12,0,11],\n",
    "      'Balls_Faced':[12,64,33,64,7,2,15],\n",
    "      'Strike_Rate':[41.6,123.4,160.6,156.6,171.4,0,73.3],\n",
    "     'No_of_matches_played_against_DC_in_2020':[1,2,2,2,2,1,2],\n",
    "     'Batsman_status':['played','played','played','played',\"Didn't bat in second Match\",\"played\",\"Didn't bat in  second Match\"]}\n",
    "df1 = pd.DataFrame(Data,columns = ['Player_Name','Batsman_Total_Runs','Balls_Faced','Strike_Rate','No_of_matches_played_against_DC_in_2020','Batsman_status'])\n",
    "print(df1)"
   ]
  },
  {
   "cell_type": "code",
   "execution_count": 155,
   "metadata": {},
   "outputs": [],
   "source": [
    "# saving the dataframe \n",
    "df1.to_csv('file1.csv') \n"
   ]
  },
  {
   "cell_type": "code",
   "execution_count": 156,
   "metadata": {},
   "outputs": [],
   "source": [
    "File=pd.read_csv(\"file1.csv\")"
   ]
  },
  {
   "cell_type": "code",
   "execution_count": 157,
   "metadata": {},
   "outputs": [
    {
     "data": {
      "text/html": [
       "<div>\n",
       "<style scoped>\n",
       "    .dataframe tbody tr th:only-of-type {\n",
       "        vertical-align: middle;\n",
       "    }\n",
       "\n",
       "    .dataframe tbody tr th {\n",
       "        vertical-align: top;\n",
       "    }\n",
       "\n",
       "    .dataframe thead th {\n",
       "        text-align: right;\n",
       "    }\n",
       "</style>\n",
       "<table border=\"1\" class=\"dataframe\">\n",
       "  <thead>\n",
       "    <tr style=\"text-align: right;\">\n",
       "      <th></th>\n",
       "      <th>Unnamed: 0</th>\n",
       "      <th>Player_Name</th>\n",
       "      <th>Batsman_Total_Runs</th>\n",
       "      <th>Balls_Faced</th>\n",
       "      <th>Strike_Rate</th>\n",
       "      <th>No_of_matches_played_against_DC_in_2020</th>\n",
       "      <th>Batsman_status</th>\n",
       "    </tr>\n",
       "  </thead>\n",
       "  <tbody>\n",
       "    <tr>\n",
       "      <th>0</th>\n",
       "      <td>0</td>\n",
       "      <td>Rohit Sharma</td>\n",
       "      <td>5</td>\n",
       "      <td>12</td>\n",
       "      <td>41.6</td>\n",
       "      <td>1</td>\n",
       "      <td>played</td>\n",
       "    </tr>\n",
       "    <tr>\n",
       "      <th>1</th>\n",
       "      <td>1</td>\n",
       "      <td>Quinton de kock</td>\n",
       "      <td>79</td>\n",
       "      <td>64</td>\n",
       "      <td>123.4</td>\n",
       "      <td>2</td>\n",
       "      <td>played</td>\n",
       "    </tr>\n",
       "    <tr>\n",
       "      <th>2</th>\n",
       "      <td>2</td>\n",
       "      <td>Surya kumar Yadav</td>\n",
       "      <td>53</td>\n",
       "      <td>33</td>\n",
       "      <td>160.6</td>\n",
       "      <td>2</td>\n",
       "      <td>played</td>\n",
       "    </tr>\n",
       "    <tr>\n",
       "      <th>3</th>\n",
       "      <td>3</td>\n",
       "      <td>Ishan Kishan</td>\n",
       "      <td>100</td>\n",
       "      <td>64</td>\n",
       "      <td>156.6</td>\n",
       "      <td>2</td>\n",
       "      <td>played</td>\n",
       "    </tr>\n",
       "    <tr>\n",
       "      <th>4</th>\n",
       "      <td>4</td>\n",
       "      <td>krunal pandya</td>\n",
       "      <td>12</td>\n",
       "      <td>7</td>\n",
       "      <td>171.4</td>\n",
       "      <td>2</td>\n",
       "      <td>Didn't bat in second Match</td>\n",
       "    </tr>\n",
       "    <tr>\n",
       "      <th>5</th>\n",
       "      <td>5</td>\n",
       "      <td>hardik pandya</td>\n",
       "      <td>0</td>\n",
       "      <td>2</td>\n",
       "      <td>0.0</td>\n",
       "      <td>1</td>\n",
       "      <td>played</td>\n",
       "    </tr>\n",
       "    <tr>\n",
       "      <th>6</th>\n",
       "      <td>6</td>\n",
       "      <td>kieron pollard</td>\n",
       "      <td>11</td>\n",
       "      <td>15</td>\n",
       "      <td>73.3</td>\n",
       "      <td>2</td>\n",
       "      <td>Didn't bat in  second Match</td>\n",
       "    </tr>\n",
       "  </tbody>\n",
       "</table>\n",
       "</div>"
      ],
      "text/plain": [
       "   Unnamed: 0        Player_Name  Batsman_Total_Runs  Balls_Faced  \\\n",
       "0           0       Rohit Sharma                   5           12   \n",
       "1           1    Quinton de kock                  79           64   \n",
       "2           2  Surya kumar Yadav                  53           33   \n",
       "3           3       Ishan Kishan                 100           64   \n",
       "4           4      krunal pandya                  12            7   \n",
       "5           5      hardik pandya                   0            2   \n",
       "6           6     kieron pollard                  11           15   \n",
       "\n",
       "   Strike_Rate  No_of_matches_played_against_DC_in_2020  \\\n",
       "0         41.6                                        1   \n",
       "1        123.4                                        2   \n",
       "2        160.6                                        2   \n",
       "3        156.6                                        2   \n",
       "4        171.4                                        2   \n",
       "5          0.0                                        1   \n",
       "6         73.3                                        2   \n",
       "\n",
       "                Batsman_status  \n",
       "0                       played  \n",
       "1                       played  \n",
       "2                       played  \n",
       "3                       played  \n",
       "4   Didn't bat in second Match  \n",
       "5                       played  \n",
       "6  Didn't bat in  second Match  "
      ]
     },
     "execution_count": 157,
     "metadata": {},
     "output_type": "execute_result"
    }
   ],
   "source": [
    "File"
   ]
  },
  {
   "cell_type": "code",
   "execution_count": 162,
   "metadata": {},
   "outputs": [],
   "source": [
    "Dc_Bowlers_AN=MI_runs.loc[(MI_runs['bowler']=='Anrich Nortje')]"
   ]
  },
  {
   "cell_type": "code",
   "execution_count": 163,
   "metadata": {},
   "outputs": [
    {
     "data": {
      "text/plain": [
       "52"
      ]
     },
     "execution_count": 163,
     "metadata": {},
     "output_type": "execute_result"
    }
   ],
   "source": [
    "Dc_Bowlers_AN['batsman_runs'].sum()"
   ]
  },
  {
   "cell_type": "code",
   "execution_count": 164,
   "metadata": {},
   "outputs": [
    {
     "data": {
      "text/plain": [
       "2    7\n",
       "1    7\n",
       "6    6\n",
       "5    6\n",
       "4    6\n",
       "3    6\n",
       "7    1\n",
       "Name: ball, dtype: int64"
      ]
     },
     "execution_count": 164,
     "metadata": {},
     "output_type": "execute_result"
    }
   ],
   "source": [
    "Dc_Bowlers_AN['ball'].value_counts()"
   ]
  },
  {
   "cell_type": "markdown",
   "metadata": {},
   "source": [
    "# MI batsman VS DC Bowlers"
   ]
  },
  {
   "cell_type": "code",
   "execution_count": 169,
   "metadata": {},
   "outputs": [
    {
     "data": {
      "image/png": "[encoded data removed]",
      "text/plain": [
       "<Figure size 432x288 with 1 Axes>"
      ]
     },
     "metadata": {},
     "output_type": "display_data"
    }
   ],
   "source": [
    "x1=['Rabada','Ashwin','Axar Patel','Marcus Stoinis','Anrich Nortje']\n",
    "y1=[7,6,7,9,8.6]\n",
    "plt.bar(x1,y1)\n",
    "plt.ylabel('Count')\n",
    "plt.title('Economy of DC Bowlers against MI batsman')\n",
    "plt.show()"
   ]
  },
  {
   "cell_type": "markdown",
   "metadata": {},
   "source": [
    "# MI Batsman vs DC bowlers"
   ]
  },
  {
   "cell_type": "code",
   "execution_count": 212,
   "metadata": {},
   "outputs": [
    {
     "data": {
      "image/png": "[encoded data removed]",
      "text/plain": [
       "<Figure size 432x288 with 1 Axes>"
      ]
     },
     "metadata": {},
     "output_type": "display_data"
    }
   ],
   "source": [
    "count=[31,26,23,25,22,18]\n",
    "explode=[0.2,0,0,0,0,0]\n",
    "labels=['Rohit_Sharma','Quinton de kock','surya Kumar yadav','Ishan Kishan','Krunal Pandya','Kieron pollard']\n",
    "plt.pie(count,labels=labels,explode=explode,autopct='%.2f')\n",
    "plt.title('Mumbai Indians Batsmans Average Runs against DC From IPL[2008-2019]Records')\n",
    "plt.show()"
   ]
  },
  {
   "cell_type": "code",
   "execution_count": 187,
   "metadata": {},
   "outputs": [
    {
     "name": "stdout",
     "output_type": "stream",
     "text": [
      "         Player_Name  Dismissal_Count_Of_Rabada  Stoinis  Anrich_nortje  \\\n",
      "0       Rohit Sharma                          1        0              0   \n",
      "1    Quinton de kock                          0        0              1   \n",
      "2  Surya kumar Yadav                          2        1              0   \n",
      "3       Ishan Kishan                          0        0              0   \n",
      "4      krunal pandya                          0        2              0   \n",
      "5      hardik pandya                          2        1              0   \n",
      "6     kieron pollard                          0        1              0   \n",
      "\n",
      "   Ashwin  Axar_patel  \n",
      "0       1           2  \n",
      "1       2           0  \n",
      "2       0           1  \n",
      "3       0           0  \n",
      "4       0           0  \n",
      "5       0           1  \n",
      "6       3           1  \n"
     ]
    }
   ],
   "source": [
    "Data1={'Player_Name':['Rohit Sharma','Quinton de kock','Surya kumar Yadav','Ishan Kishan','krunal pandya','hardik pandya','kieron pollard'],\n",
    "     'Dismissal_Count_Of_Rabada':[1,0,2,0,0,2,0],\n",
    "     'Stoinis':[0,0,1,0,2,1,1],\n",
    "     'Anrich_nortje':[0,1,0,0,0,0,0],\n",
    "     'Ashwin':[1,2,0,0,0,0,3],\n",
    "      'Axar_patel':[2,0,1,0,0,1,1],\n",
    "     }\n",
    "df2 = pd.DataFrame(Data1,columns = ['Player_Name','Dismissal_Count_Of_Rabada','Stoinis','Anrich_nortje','Ashwin','Axar_patel'])\n",
    "print(df2)"
   ]
  },
  {
   "cell_type": "code",
   "execution_count": 188,
   "metadata": {},
   "outputs": [],
   "source": [
    "df2.to_csv('file2.csv') "
   ]
  },
  {
   "cell_type": "code",
   "execution_count": 189,
   "metadata": {},
   "outputs": [],
   "source": [
    "file2=pd.read_csv(\"file2.csv\")"
   ]
  },
  {
   "cell_type": "code",
   "execution_count": 190,
   "metadata": {},
   "outputs": [
    {
     "data": {
      "text/html": [
       "<div>\n",
       "<style scoped>\n",
       "    .dataframe tbody tr th:only-of-type {\n",
       "        vertical-align: middle;\n",
       "    }\n",
       "\n",
       "    .dataframe tbody tr th {\n",
       "        vertical-align: top;\n",
       "    }\n",
       "\n",
       "    .dataframe thead th {\n",
       "        text-align: right;\n",
       "    }\n",
       "</style>\n",
       "<table border=\"1\" class=\"dataframe\">\n",
       "  <thead>\n",
       "    <tr style=\"text-align: right;\">\n",
       "      <th></th>\n",
       "      <th>Unnamed: 0</th>\n",
       "      <th>Player_Name</th>\n",
       "      <th>Dismissal_Count_Of_Rabada</th>\n",
       "      <th>Stoinis</th>\n",
       "      <th>Anrich_nortje</th>\n",
       "      <th>Ashwin</th>\n",
       "      <th>Axar_patel</th>\n",
       "    </tr>\n",
       "  </thead>\n",
       "  <tbody>\n",
       "    <tr>\n",
       "      <th>0</th>\n",
       "      <td>0</td>\n",
       "      <td>Rohit Sharma</td>\n",
       "      <td>1</td>\n",
       "      <td>0</td>\n",
       "      <td>0</td>\n",
       "      <td>1</td>\n",
       "      <td>2</td>\n",
       "    </tr>\n",
       "    <tr>\n",
       "      <th>1</th>\n",
       "      <td>1</td>\n",
       "      <td>Quinton de kock</td>\n",
       "      <td>0</td>\n",
       "      <td>0</td>\n",
       "      <td>1</td>\n",
       "      <td>2</td>\n",
       "      <td>0</td>\n",
       "    </tr>\n",
       "    <tr>\n",
       "      <th>2</th>\n",
       "      <td>2</td>\n",
       "      <td>Surya kumar Yadav</td>\n",
       "      <td>2</td>\n",
       "      <td>1</td>\n",
       "      <td>0</td>\n",
       "      <td>0</td>\n",
       "      <td>1</td>\n",
       "    </tr>\n",
       "    <tr>\n",
       "      <th>3</th>\n",
       "      <td>3</td>\n",
       "      <td>Ishan Kishan</td>\n",
       "      <td>0</td>\n",
       "      <td>0</td>\n",
       "      <td>0</td>\n",
       "      <td>0</td>\n",
       "      <td>0</td>\n",
       "    </tr>\n",
       "    <tr>\n",
       "      <th>4</th>\n",
       "      <td>4</td>\n",
       "      <td>krunal pandya</td>\n",
       "      <td>0</td>\n",
       "      <td>2</td>\n",
       "      <td>0</td>\n",
       "      <td>0</td>\n",
       "      <td>0</td>\n",
       "    </tr>\n",
       "    <tr>\n",
       "      <th>5</th>\n",
       "      <td>5</td>\n",
       "      <td>hardik pandya</td>\n",
       "      <td>2</td>\n",
       "      <td>1</td>\n",
       "      <td>0</td>\n",
       "      <td>0</td>\n",
       "      <td>1</td>\n",
       "    </tr>\n",
       "    <tr>\n",
       "      <th>6</th>\n",
       "      <td>6</td>\n",
       "      <td>kieron pollard</td>\n",
       "      <td>0</td>\n",
       "      <td>1</td>\n",
       "      <td>0</td>\n",
       "      <td>3</td>\n",
       "      <td>1</td>\n",
       "    </tr>\n",
       "  </tbody>\n",
       "</table>\n",
       "</div>"
      ],
      "text/plain": [
       "   Unnamed: 0        Player_Name  Dismissal_Count_Of_Rabada  Stoinis  \\\n",
       "0           0       Rohit Sharma                          1        0   \n",
       "1           1    Quinton de kock                          0        0   \n",
       "2           2  Surya kumar Yadav                          2        1   \n",
       "3           3       Ishan Kishan                          0        0   \n",
       "4           4      krunal pandya                          0        2   \n",
       "5           5      hardik pandya                          2        1   \n",
       "6           6     kieron pollard                          0        1   \n",
       "\n",
       "   Anrich_nortje  Ashwin  Axar_patel  \n",
       "0              0       1           2  \n",
       "1              1       2           0  \n",
       "2              0       0           1  \n",
       "3              0       0           0  \n",
       "4              0       0           0  \n",
       "5              0       0           1  \n",
       "6              0       3           1  "
      ]
     },
     "execution_count": 190,
     "metadata": {},
     "output_type": "execute_result"
    }
   ],
   "source": [
    "file2"
   ]
  },
  {
   "cell_type": "code",
   "execution_count": 192,
   "metadata": {},
   "outputs": [
    {
     "data": {
      "image/png": "[encoded data removed]",
      "text/plain": [
       "<Figure size 432x288 with 1 Axes>"
      ]
     },
     "metadata": {},
     "output_type": "display_data"
    }
   ],
   "source": [
    "count=[3,5,1,6,5]\n",
    "explode=[0,0,0,0.2,0]\n",
    "labels=['Rabada','Stoinis','Anrich Nortje','Ashwin','Axar Patel']\n",
    "plt.pie(count,labels=labels,explode=explode,autopct='%.2f')\n",
    "plt.title('MI Batsman Wickets Taken by DC Bowlers')\n",
    "plt.show()"
   ]
  },
  {
   "cell_type": "markdown",
   "metadata": {},
   "source": [
    "# DC batsman Runs"
   ]
  },
  {
   "cell_type": "code",
   "execution_count": 198,
   "metadata": {},
   "outputs": [
    {
     "data": {
      "image/png": "[encoded data removed]",
      "text/plain": [
       "<Figure size 432x288 with 1 Axes>"
      ]
     },
     "metadata": {},
     "output_type": "display_data"
    }
   ],
   "source": [
    "count=[26,32,20,13,29,19,18]\n",
    "explode=[0,0.150,0,0,0,0,0]\n",
    "labels=['Dhawan','Rishab Pant','Shreyas Iyyer','prithvi Shaw','Rahane','Marcus Stoinis','Hetmyer']\n",
    "plt.pie(count,labels=labels,explode=explode,autopct='%.2f')\n",
    "plt.title('Delhi Capitals Batsmans Average Runs against MI From IPL[2008-2019]Records')\n",
    "plt.show()"
   ]
  },
  {
   "cell_type": "markdown",
   "metadata": {},
   "source": [
    "# DC Batsman Performance against MI in 2020"
   ]
  },
  {
   "cell_type": "code",
   "execution_count": 199,
   "metadata": {},
   "outputs": [],
   "source": [
    "Mum_Del1=MI_Runs.loc[(MI_Runs['batting_team']=='MI')&(MI_Runs['bowling_team']=='DC')]"
   ]
  },
  {
   "cell_type": "code",
   "execution_count": 200,
   "metadata": {},
   "outputs": [],
   "source": [
    "Mum_Del2=MI_Runs.loc[(MI_Runs['batting_team']=='DC')&(MI_Runs['bowling_team']=='MI')]"
   ]
  },
  {
   "cell_type": "code",
   "execution_count": 201,
   "metadata": {},
   "outputs": [],
   "source": [
    "Mum_Del=Mum_Del1.append(Mum_Del2)"
   ]
  },
  {
   "cell_type": "code",
   "execution_count": 208,
   "metadata": {},
   "outputs": [
    {
     "name": "stdout",
     "output_type": "stream",
     "text": [
      "      Player_Name  Batsman_Total_Runs  Balls_Faced  Strike_Rate  \\\n",
      "0    Prithvi Shaw                  14           14        100.0   \n",
      "1          Dhawan                  69           54        127.7   \n",
      "2    Shreyas Iyer                  67           62        108.0   \n",
      "3    Rishabh Pant                  21           24         87.8   \n",
      "4  Marcus Stoinis                  15           10        150.0   \n",
      "5         Hetmyer                  11           13         84.6   \n",
      "6          Rahane                  15           15        100.0   \n",
      "\n",
      "   No_of_matches_played_against_MI_in_2020                Batsman_status  \n",
      "0                                        2                        played  \n",
      "1                                        2                        played  \n",
      "2                                        2                        played  \n",
      "3                                        1   Didn't play in second Match  \n",
      "4                                        2                        played  \n",
      "5                                        1  Didn't play in  second Match  \n",
      "6                                        1    Didn't play in First Match  \n"
     ]
    }
   ],
   "source": [
    "Data={'Player_Name':['Prithvi Shaw','Dhawan','Shreyas Iyer','Rishabh Pant','Marcus Stoinis','Hetmyer','Rahane'],\n",
    "     'Batsman_Total_Runs':[14,69,67,21,15,11,15],\n",
    "      'Balls_Faced':[14,54,62,24,10,13,15],\n",
    "      'Strike_Rate':[100,127.7,108.0,87.8,150,84.6,100.0],\n",
    "     'No_of_matches_played_against_MI_in_2020':[2,2,2,1,2,1,1],\n",
    "     'Batsman_status':['played','played','played',\"Didn't play in second Match\",\"played\",\"Didn't play in  second Match\",\"Didn't play in First Match\"]}\n",
    "df3 = pd.DataFrame(Data,columns = ['Player_Name','Batsman_Total_Runs','Balls_Faced','Strike_Rate','No_of_matches_played_against_MI_in_2020','Batsman_status'])\n",
    "print(df3)"
   ]
  },
  {
   "cell_type": "code",
   "execution_count": 209,
   "metadata": {},
   "outputs": [],
   "source": [
    "df3.to_csv('file3.csv') "
   ]
  },
  {
   "cell_type": "code",
   "execution_count": 210,
   "metadata": {},
   "outputs": [],
   "source": [
    "file3=pd.read_csv(\"file3.csv\")"
   ]
  },
  {
   "cell_type": "code",
   "execution_count": 211,
   "metadata": {},
   "outputs": [
    {
     "data": {
      "text/html": [
       "<div>\n",
       "<style scoped>\n",
       "    .dataframe tbody tr th:only-of-type {\n",
       "        vertical-align: middle;\n",
       "    }\n",
       "\n",
       "    .dataframe tbody tr th {\n",
       "        vertical-align: top;\n",
       "    }\n",
       "\n",
       "    .dataframe thead th {\n",
       "        text-align: right;\n",
       "    }\n",
       "</style>\n",
       "<table border=\"1\" class=\"dataframe\">\n",
       "  <thead>\n",
       "    <tr style=\"text-align: right;\">\n",
       "      <th></th>\n",
       "      <th>Unnamed: 0</th>\n",
       "      <th>Player_Name</th>\n",
       "      <th>Batsman_Total_Runs</th>\n",
       "      <th>Balls_Faced</th>\n",
       "      <th>Strike_Rate</th>\n",
       "      <th>No_of_matches_played_against_MI_in_2020</th>\n",
       "      <th>Batsman_status</th>\n",
       "    </tr>\n",
       "  </thead>\n",
       "  <tbody>\n",
       "    <tr>\n",
       "      <th>0</th>\n",
       "      <td>0</td>\n",
       "      <td>Prithvi Shaw</td>\n",
       "      <td>14</td>\n",
       "      <td>14</td>\n",
       "      <td>100.0</td>\n",
       "      <td>2</td>\n",
       "      <td>played</td>\n",
       "    </tr>\n",
       "    <tr>\n",
       "      <th>1</th>\n",
       "      <td>1</td>\n",
       "      <td>Dhawan</td>\n",
       "      <td>69</td>\n",
       "      <td>54</td>\n",
       "      <td>127.7</td>\n",
       "      <td>2</td>\n",
       "      <td>played</td>\n",
       "    </tr>\n",
       "    <tr>\n",
       "      <th>2</th>\n",
       "      <td>2</td>\n",
       "      <td>Shreyas Iyer</td>\n",
       "      <td>67</td>\n",
       "      <td>62</td>\n",
       "      <td>108.0</td>\n",
       "      <td>2</td>\n",
       "      <td>played</td>\n",
       "    </tr>\n",
       "    <tr>\n",
       "      <th>3</th>\n",
       "      <td>3</td>\n",
       "      <td>Rishabh Pant</td>\n",
       "      <td>21</td>\n",
       "      <td>24</td>\n",
       "      <td>87.8</td>\n",
       "      <td>1</td>\n",
       "      <td>Didn't play in second Match</td>\n",
       "    </tr>\n",
       "    <tr>\n",
       "      <th>4</th>\n",
       "      <td>4</td>\n",
       "      <td>Marcus Stoinis</td>\n",
       "      <td>15</td>\n",
       "      <td>10</td>\n",
       "      <td>150.0</td>\n",
       "      <td>2</td>\n",
       "      <td>played</td>\n",
       "    </tr>\n",
       "    <tr>\n",
       "      <th>5</th>\n",
       "      <td>5</td>\n",
       "      <td>Hetmyer</td>\n",
       "      <td>11</td>\n",
       "      <td>13</td>\n",
       "      <td>84.6</td>\n",
       "      <td>1</td>\n",
       "      <td>Didn't play in  second Match</td>\n",
       "    </tr>\n",
       "    <tr>\n",
       "      <th>6</th>\n",
       "      <td>6</td>\n",
       "      <td>Rahane</td>\n",
       "      <td>15</td>\n",
       "      <td>15</td>\n",
       "      <td>100.0</td>\n",
       "      <td>1</td>\n",
       "      <td>Didn't play in First Match</td>\n",
       "    </tr>\n",
       "  </tbody>\n",
       "</table>\n",
       "</div>"
      ],
      "text/plain": [
       "   Unnamed: 0     Player_Name  Batsman_Total_Runs  Balls_Faced  Strike_Rate  \\\n",
       "0           0    Prithvi Shaw                  14           14        100.0   \n",
       "1           1          Dhawan                  69           54        127.7   \n",
       "2           2    Shreyas Iyer                  67           62        108.0   \n",
       "3           3    Rishabh Pant                  21           24         87.8   \n",
       "4           4  Marcus Stoinis                  15           10        150.0   \n",
       "5           5         Hetmyer                  11           13         84.6   \n",
       "6           6          Rahane                  15           15        100.0   \n",
       "\n",
       "   No_of_matches_played_against_MI_in_2020                Batsman_status  \n",
       "0                                        2                        played  \n",
       "1                                        2                        played  \n",
       "2                                        2                        played  \n",
       "3                                        1   Didn't play in second Match  \n",
       "4                                        2                        played  \n",
       "5                                        1  Didn't play in  second Match  \n",
       "6                                        1    Didn't play in First Match  "
      ]
     },
     "execution_count": 211,
     "metadata": {},
     "output_type": "execute_result"
    }
   ],
   "source": [
    "file3"
   ]
  },
  {
   "cell_type": "markdown",
   "metadata": {},
   "source": [
    "# DC Batsman VS MI Bowlers"
   ]
  },
  {
   "cell_type": "code",
   "execution_count": 218,
   "metadata": {},
   "outputs": [
    {
     "name": "stdout",
     "output_type": "stream",
     "text": [
      "      Player_Name  Dismissal_Count_Of_Bumrah  Trent Boult  Rahul Chahar  \\\n",
      "0    Prithvi Shaw                          0            2             1   \n",
      "1          Dhawan                          0            1             1   \n",
      "2    Shreyas Iyer                          2            0             2   \n",
      "3    Rishabh Pant                          5            0             0   \n",
      "4  Marcus Stoinis                          1            0             0   \n",
      "5          Rahane                          0            0             0   \n",
      "6   Harshal patel                          1            0             0   \n",
      "\n",
      "   Krunal Pandya  Hardik Pandya  \n",
      "0              0              0  \n",
      "1              0              1  \n",
      "2              1              1  \n",
      "3              2              0  \n",
      "4              0              0  \n",
      "5              1              0  \n",
      "6              0              0  \n"
     ]
    }
   ],
   "source": [
    "Data1={'Player_Name':['Prithvi Shaw','Dhawan','Shreyas Iyer','Rishabh Pant','Marcus Stoinis','Rahane','Harshal patel'],\n",
    "     'Dismissal_Count_Of_Bumrah':[0,0,2,5,1,0,1],\n",
    "     'Trent Boult':[2,1,0,0,0,0,0],\n",
    "     'Rahul Chahar':[1,1,2,0,0,0,0],\n",
    "     'Krunal Pandya':[0,0,1,2,0,1,0],\n",
    "      'Hardik Pandya':[0,1,1,0,0,0,0],\n",
    "     }\n",
    "df4 = pd.DataFrame(Data1,columns = ['Player_Name','Dismissal_Count_Of_Bumrah','Trent Boult','Rahul Chahar','Krunal Pandya','Hardik Pandya'])\n",
    "print(df4)"
   ]
  },
  {
   "cell_type": "code",
   "execution_count": 219,
   "metadata": {},
   "outputs": [],
   "source": [
    "df4.to_csv('file4.csv') "
   ]
  },
  {
   "cell_type": "code",
   "execution_count": 220,
   "metadata": {},
   "outputs": [],
   "source": [
    "file4=pd.read_csv(\"file4.csv\")"
   ]
  },
  {
   "cell_type": "code",
   "execution_count": 221,
   "metadata": {},
   "outputs": [
    {
     "data": {
      "text/html": [
       "<div>\n",
       "<style scoped>\n",
       "    .dataframe tbody tr th:only-of-type {\n",
       "        vertical-align: middle;\n",
       "    }\n",
       "\n",
       "    .dataframe tbody tr th {\n",
       "        vertical-align: top;\n",
       "    }\n",
       "\n",
       "    .dataframe thead th {\n",
       "        text-align: right;\n",
       "    }\n",
       "</style>\n",
       "<table border=\"1\" class=\"dataframe\">\n",
       "  <thead>\n",
       "    <tr style=\"text-align: right;\">\n",
       "      <th></th>\n",
       "      <th>Unnamed: 0</th>\n",
       "      <th>Player_Name</th>\n",
       "      <th>Dismissal_Count_Of_Bumrah</th>\n",
       "      <th>Trent Boult</th>\n",
       "      <th>Rahul Chahar</th>\n",
       "      <th>Krunal Pandya</th>\n",
       "      <th>Hardik Pandya</th>\n",
       "    </tr>\n",
       "  </thead>\n",
       "  <tbody>\n",
       "    <tr>\n",
       "      <th>0</th>\n",
       "      <td>0</td>\n",
       "      <td>Prithvi Shaw</td>\n",
       "      <td>0</td>\n",
       "      <td>2</td>\n",
       "      <td>1</td>\n",
       "      <td>0</td>\n",
       "      <td>0</td>\n",
       "    </tr>\n",
       "    <tr>\n",
       "      <th>1</th>\n",
       "      <td>1</td>\n",
       "      <td>Dhawan</td>\n",
       "      <td>0</td>\n",
       "      <td>1</td>\n",
       "      <td>1</td>\n",
       "      <td>0</td>\n",
       "      <td>1</td>\n",
       "    </tr>\n",
       "    <tr>\n",
       "      <th>2</th>\n",
       "      <td>2</td>\n",
       "      <td>Shreyas Iyer</td>\n",
       "      <td>2</td>\n",
       "      <td>0</td>\n",
       "      <td>2</td>\n",
       "      <td>1</td>\n",
       "      <td>1</td>\n",
       "    </tr>\n",
       "    <tr>\n",
       "      <th>3</th>\n",
       "      <td>3</td>\n",
       "      <td>Rishabh Pant</td>\n",
       "      <td>5</td>\n",
       "      <td>0</td>\n",
       "      <td>0</td>\n",
       "      <td>2</td>\n",
       "      <td>0</td>\n",
       "    </tr>\n",
       "    <tr>\n",
       "      <th>4</th>\n",
       "      <td>4</td>\n",
       "      <td>Marcus Stoinis</td>\n",
       "      <td>1</td>\n",
       "      <td>0</td>\n",
       "      <td>0</td>\n",
       "      <td>0</td>\n",
       "      <td>0</td>\n",
       "    </tr>\n",
       "    <tr>\n",
       "      <th>5</th>\n",
       "      <td>5</td>\n",
       "      <td>Rahane</td>\n",
       "      <td>0</td>\n",
       "      <td>0</td>\n",
       "      <td>0</td>\n",
       "      <td>1</td>\n",
       "      <td>0</td>\n",
       "    </tr>\n",
       "    <tr>\n",
       "      <th>6</th>\n",
       "      <td>6</td>\n",
       "      <td>Harshal patel</td>\n",
       "      <td>1</td>\n",
       "      <td>0</td>\n",
       "      <td>0</td>\n",
       "      <td>0</td>\n",
       "      <td>0</td>\n",
       "    </tr>\n",
       "  </tbody>\n",
       "</table>\n",
       "</div>"
      ],
      "text/plain": [
       "   Unnamed: 0     Player_Name  Dismissal_Count_Of_Bumrah  Trent Boult  \\\n",
       "0           0    Prithvi Shaw                          0            2   \n",
       "1           1          Dhawan                          0            1   \n",
       "2           2    Shreyas Iyer                          2            0   \n",
       "3           3    Rishabh Pant                          5            0   \n",
       "4           4  Marcus Stoinis                          1            0   \n",
       "5           5          Rahane                          0            0   \n",
       "6           6   Harshal patel                          1            0   \n",
       "\n",
       "   Rahul Chahar  Krunal Pandya  Hardik Pandya  \n",
       "0             1              0              0  \n",
       "1             1              0              1  \n",
       "2             2              1              1  \n",
       "3             0              2              0  \n",
       "4             0              0              0  \n",
       "5             0              1              0  \n",
       "6             0              0              0  "
      ]
     },
     "execution_count": 221,
     "metadata": {},
     "output_type": "execute_result"
    }
   ],
   "source": [
    "file4"
   ]
  },
  {
   "cell_type": "code",
   "execution_count": 222,
   "metadata": {},
   "outputs": [
    {
     "data": {
      "image/png": "[encoded data removed]",
      "text/plain": [
       "<Figure size 432x288 with 1 Axes>"
      ]
     },
     "metadata": {},
     "output_type": "display_data"
    }
   ],
   "source": [
    "count=[9,3,4,4,2]\n",
    "explode=[0.2,0,0,0,0]\n",
    "labels=['Bumrah','Trent Boult','Rahul Chahar','Krunal Pandya','Hardik Pandya']\n",
    "plt.pie(count,labels=labels,explode=explode,autopct='%.2f')\n",
    "plt.title('DC Batsman Wickets Taken by MI Bowlers')\n",
    "plt.show()"
   ]
  },
  {
   "cell_type": "code",
   "execution_count": null,
   "metadata": {},
   "outputs": [],
   "source": []
  },
  {
   "cell_type": "code",
   "execution_count": null,
   "metadata": {},
   "outputs": [],
   "source": []
  },
  {
   "cell_type": "code",
   "execution_count": null,
   "metadata": {},
   "outputs": [],
   "source": []
  },
  {
   "cell_type": "code",
   "execution_count": null,
   "metadata": {},
   "outputs": [],
   "source": []
  },
  {
   "cell_type": "code",
   "execution_count": null,
   "metadata": {},
   "outputs": [],
   "source": []
  },
  {
   "cell_type": "code",
   "execution_count": null,
   "metadata": {},
   "outputs": [],
   "source": []
  },
  {
   "cell_type": "code",
   "execution_count": null,
   "metadata": {},
   "outputs": [],
   "source": []
  },
  {
   "cell_type": "code",
   "execution_count": null,
   "metadata": {},
   "outputs": [],
   "source": []
  },
  {
   "cell_type": "code",
   "execution_count": null,
   "metadata": {},
   "outputs": [],
   "source": []
  },
  {
   "cell_type": "code",
   "execution_count": null,
   "metadata": {},
   "outputs": [],
   "source": []
  },
  {
   "cell_type": "code",
   "execution_count": null,
   "metadata": {},
   "outputs": [],
   "source": []
  },
  {
   "cell_type": "code",
   "execution_count": null,
   "metadata": {},
   "outputs": [],
   "source": []
  },
  {
   "cell_type": "code",
   "execution_count": null,
   "metadata": {},
   "outputs": [],
   "source": []
  },
  {
   "cell_type": "code",
   "execution_count": null,
   "metadata": {},
   "outputs": [],
   "source": []
  },
  {
   "cell_type": "code",
   "execution_count": null,
   "metadata": {},
   "outputs": [],
   "source": []
  },
  {
   "cell_type": "code",
   "execution_count": null,
   "metadata": {},
   "outputs": [],
   "source": []
  },
  {
   "cell_type": "code",
   "execution_count": null,
   "metadata": {},
   "outputs": [],
   "source": []
  },
  {
   "cell_type": "code",
   "execution_count": null,
   "metadata": {},
   "outputs": [],
   "source": []
  },
  {
   "cell_type": "code",
   "execution_count": null,
   "metadata": {},
   "outputs": [],
   "source": []
  },
  {
   "cell_type": "code",
   "execution_count": null,
   "metadata": {},
   "outputs": [],
   "source": []
  },
  {
   "cell_type": "code",
   "execution_count": null,
   "metadata": {},
   "outputs": [],
   "source": []
  },
  {
   "cell_type": "code",
   "execution_count": null,
   "metadata": {},
   "outputs": [],
   "source": []
  },
  {
   "cell_type": "code",
   "execution_count": null,
   "metadata": {},
   "outputs": [],
   "source": []
  },
  {
   "cell_type": "code",
   "execution_count": null,
   "metadata": {},
   "outputs": [],
   "source": []
  },
  {
   "cell_type": "code",
   "execution_count": null,
   "metadata": {},
   "outputs": [],
   "source": []
  },
  {
   "cell_type": "code",
   "execution_count": null,
   "metadata": {},
   "outputs": [],
   "source": []
  },
  {
   "cell_type": "code",
   "execution_count": null,
   "metadata": {},
   "outputs": [],
   "source": []
  },
  {
   "cell_type": "code",
   "execution_count": null,
   "metadata": {},
   "outputs": [],
   "source": []
  },
  {
   "cell_type": "code",
   "execution_count": null,
   "metadata": {},
   "outputs": [],
   "source": []
  },
  {
   "cell_type": "code",
   "execution_count": null,
   "metadata": {},
   "outputs": [],
   "source": []
  },
  {
   "cell_type": "code",
   "execution_count": null,
   "metadata": {},
   "outputs": [],
   "source": []
  }
 ],
 "metadata": {
  "kernelspec": {
   "display_name": "Python 3",
   "language": "python",
   "name": "python3"
  },
  "language_info": {
   "codemirror_mode": {
    "name": "ipython",
    "version": 3
   },
   "file_extension": ".py",
   "mimetype": "text/x-python",
   "name": "python",
   "nbconvert_exporter": "python",
   "pygments_lexer": "ipython3",
   "version": "3.7.6"
  }
 },
 "nbformat": 4,
 "nbformat_minor": 4
}
