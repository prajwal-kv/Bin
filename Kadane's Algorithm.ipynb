{
 "cells": [
  {
   "cell_type": "code",
   "execution_count": 4,
   "metadata": {},
   "outputs": [
    {
     "data": {
      "text/plain": [
       "1"
      ]
     },
     "execution_count": 4,
     "metadata": {},
     "output_type": "execute_result"
    }
   ],
   "source": [
    "def Max_Sub(nums):\n",
    "    total_sum=max_sum=nums[0]\n",
    "    for i in nums:\n",
    "        total_sum=max(i,total_sum)\n",
    "        max_sum=max(max_sum,total_sum)\n",
    "        return max_sum\n",
    "        return total_sum\n",
    "nums=[1,-3,4,-5,7,6]\n",
    "Max_Sub(nums)"
   ]
  },
  {
   "cell_type": "code",
   "execution_count": 11,
   "metadata": {},
   "outputs": [
    {
     "data": {
      "text/plain": [
       "12"
      ]
     },
     "execution_count": 11,
     "metadata": {},
     "output_type": "execute_result"
    }
   ],
   "source": [
    "def maxContiguousSubarraySum(nums):\n",
    "    max_so_far = nums[0]\n",
    "    max_ending_here = nums[0]\n",
    "    for i in range(1, len(nums)):\n",
    "        max_ending_here = max(max_ending_here + nums[i], nums[i])\n",
    "        max_so_far = max(max_ending_here, max_so_far)\n",
    "    return max_so_far\n",
    "nums=[1,-2,4,5,-3,5,-7,8,0]\n",
    "#nums=[-2, 1, -3, 4, -1, 2, 1, -5, 4]\n",
    "maxContiguousSubarraySum(nums)\n",
    "\n",
    "\n",
    "    "
   ]
  },
  {
   "cell_type": "code",
   "execution_count": 12,
   "metadata": {},
   "outputs": [
    {
     "name": "stdout",
     "output_type": "stream",
     "text": [
      "12\n"
     ]
    }
   ],
   "source": [
    "cursum=maxsum=nums[0]\n",
    "for i in range(1,len(nums)):\n",
    "    if cursum<0:\n",
    "        cursum=nums[i]\n",
    "    else:\n",
    "        cursum=cursum+nums[i]\n",
    "    maxsum=max(maxsum,cursum)\n",
    "print(maxsum)"
   ]
  },
  {
   "cell_type": "code",
   "execution_count": null,
   "metadata": {},
   "outputs": [],
   "source": []
  }
 ],
 "metadata": {
  "kernelspec": {
   "display_name": "Python 3",
   "language": "python",
   "name": "python3"
  },
  "language_info": {
   "codemirror_mode": {
    "name": "ipython",
    "version": 3
   },
   "file_extension": ".py",
   "mimetype": "text/x-python",
   "name": "python",
   "nbconvert_exporter": "python",
   "pygments_lexer": "ipython3",
   "version": "3.7.6"
  }
 },
 "nbformat": 4,
 "nbformat_minor": 4
}
