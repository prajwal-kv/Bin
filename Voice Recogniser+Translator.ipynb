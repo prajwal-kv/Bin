{
 "cells": [
  {
   "cell_type": "code",
   "execution_count": null,
   "metadata": {},
   "outputs": [],
   "source": [
    "import speech_recognition as sr\n",
    "from translate import Translator\n",
    "import os\n",
    "import time\n",
    "import playsound\n",
    "from gtts import gTTS\n",
    "import os\n",
    "r=sr.Recognizer()\n",
    "with sr.Microphone()as source:\n",
    "    audio=r.listen(source)\n",
    "    said=''\n",
    "    try:\n",
    "        said=r.recognize_google(audio)\n",
    "        print(said)\n",
    "    except Exception as e:\n",
    "        print(\"Not Clear\")\n",
    "translator= Translator(from_lang='en',to_lang=\"Malayalam\")\n",
    "translation = translator.translate(said)\n",
    "print(translation)\n",
    "my_text=translation\n",
    "new=gTTS(text=my_text,lang='en',slow=False)\n",
    "new.save(\"t4.mp3\")\n",
    "playsound.playsound('t4.mp3')\n",
    "os.system(\"t4.mp3\")"
   ]
  }
 ],
 "metadata": {
  "kernelspec": {
   "display_name": "Python 3",
   "language": "python",
   "name": "python3"
  },
  "language_info": {
   "codemirror_mode": {
    "name": "ipython",
    "version": 3
   },
   "file_extension": ".py",
   "mimetype": "text/x-python",
   "name": "python",
   "nbconvert_exporter": "python",
   "pygments_lexer": "ipython3",
   "version": "3.7.6"
  }
 },
 "nbformat": 4,
 "nbformat_minor": 4
}
